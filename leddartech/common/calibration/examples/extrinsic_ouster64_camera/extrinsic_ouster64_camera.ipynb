{
 "cells": [
  {
   "cell_type": "code",
   "execution_count": 1,
   "metadata": {},
   "outputs": [],
   "source": [
    "import numpy as np\n",
    "import matplotlib.pyplot as plt\n",
    "import seaborn as sns\n",
    "sns.set()\n",
    "import cv2\n",
    "import glob\n",
    "import os\n",
    "from mpl_toolkits.mplot3d import Axes3D\n",
    "from sklearn.linear_model import LinearRegression\n",
    "from sklearn.cluster import KMeans\n",
    "from sklearn.neighbors import BallTree\n",
    "import pickle\n",
    "from tqdm import tqdm\n",
    "import das.imu as DI\n",
    "from das.api import platform, interpolators\n",
    "from leddar_utils import linalg\n",
    "import extrinsic_ouster64_camera as E\n",
    "import averagingSO3 as so"
   ]
  },
  {
   "cell_type": "code",
   "execution_count": 2,
   "metadata": {},
   "outputs": [
    {
     "name": "stdout",
     "output_type": "stream",
     "text": [
      "Using matplotlib backend: Qt5Agg\n"
     ]
    }
   ],
   "source": [
    "%matplotlib"
   ]
  },
  {
   "cell_type": "code",
   "execution_count": null,
   "metadata": {},
   "outputs": [],
   "source": []
  },
  {
   "cell_type": "code",
   "execution_count": 3,
   "metadata": {},
   "outputs": [
    {
     "data": {
      "text/plain": [
       "array([[0.   , 0.   , 0.   ],\n",
       "       [0.145, 0.   , 0.   ],\n",
       "       [0.29 , 0.   , 0.   ],\n",
       "       [0.435, 0.   , 0.   ],\n",
       "       [0.   , 0.145, 0.   ],\n",
       "       [0.145, 0.145, 0.   ],\n",
       "       [0.29 , 0.145, 0.   ],\n",
       "       [0.435, 0.145, 0.   ],\n",
       "       [0.   , 0.29 , 0.   ],\n",
       "       [0.145, 0.29 , 0.   ],\n",
       "       [0.29 , 0.29 , 0.   ],\n",
       "       [0.435, 0.29 , 0.   ]], dtype=float32)"
      ]
     },
     "execution_count": 3,
     "metadata": {},
     "output_type": "execute_result"
    }
   ],
   "source": [
    "#Define the Checkerboard\n",
    "checkerboard = E.Checkerboard(pattern=(4,3), square_length=0.145)\n",
    "checkerboard.points"
   ]
  },
  {
   "cell_type": "code",
   "execution_count": null,
   "metadata": {},
   "outputs": [],
   "source": []
  },
  {
   "cell_type": "code",
   "execution_count": 4,
   "metadata": {},
   "outputs": [
    {
     "name": "stderr",
     "output_type": "stream",
     "text": [
      "  0%|          | 0/6 [00:00<?, ?it/s]/home/olivier/workspace/das/das/api/sensors.py:687: UserWarning: Unable to read completely data from cfg file\n",
      "  warnings.warn(\"Unable to read completely data from cfg file\")\n",
      " 17%|█▋        | 1/6 [00:00<00:00,  6.21it/s]/home/olivier/workspace/das/das/api/filesource.py:261: UserWarning: Timestamps are not strictly increasing for datasource file /nas/pixset/exportedDataset/20200325_145233_rec_dataset_calib_jeanne01_exported/flir_bfr_img.zip\n",
      "  warnings.warn('Timestamps are not strictly increasing for datasource file {}'.format(self.path))\n",
      " 33%|███▎      | 2/6 [00:00<00:00,  6.68it/s]"
     ]
    },
    {
     "name": "stdout",
     "output_type": "stream",
     "text": [
      "Pixell Log: The cache is set to use calibration angles.\n"
     ]
    },
    {
     "name": "stderr",
     "output_type": "stream",
     "text": [
      "100%|██████████| 6/6 [00:00<00:00,  8.31it/s]\n",
      " 33%|███▎      | 2/6 [00:00<00:00,  6.23it/s]"
     ]
    },
    {
     "name": "stdout",
     "output_type": "stream",
     "text": [
      "Pixell Log: The cache is set to use calibration angles.\n"
     ]
    },
    {
     "name": "stderr",
     "output_type": "stream",
     "text": [
      " 50%|█████     | 3/6 [00:00<00:00,  6.01it/s]/home/olivier/workspace/das/das/api/filesource.py:261: UserWarning: Timestamps are not strictly increasing for datasource file /nas/pixset/exportedDataset/20200325_151131_rec_dataset_calib_paul01_exported/flir_bfl_img.zip\n",
      "  warnings.warn('Timestamps are not strictly increasing for datasource file {}'.format(self.path))\n",
      "100%|██████████| 6/6 [00:00<00:00,  8.09it/s]\n",
      " 33%|███▎      | 2/6 [00:00<00:00,  5.86it/s]"
     ]
    },
    {
     "name": "stdout",
     "output_type": "stream",
     "text": [
      "Pixell Log: The cache is set to use calibration angles.\n"
     ]
    },
    {
     "name": "stderr",
     "output_type": "stream",
     "text": [
      "/home/olivier/workspace/das/das/api/filesource.py:261: UserWarning: Timestamps are not strictly increasing for datasource file /nas/pixset/exportedDataset/20200407_112921_rec_dataset_calib_jeanne02_gd_carreaux_exported/flir_bfc_img.zip\n",
      "  warnings.warn('Timestamps are not strictly increasing for datasource file {}'.format(self.path))\n",
      "100%|██████████| 6/6 [00:00<00:00,  7.85it/s]\n",
      " 17%|█▋        | 1/6 [00:00<00:00,  5.51it/s]/home/olivier/workspace/das/das/api/filesource.py:261: UserWarning: Timestamps are not strictly increasing for datasource file /nas/pixset/exportedDataset/20200407_124505_rec_dataset_calib_paul02_gd_carreaux_exported/flir_bfr_img.zip\n",
      "  warnings.warn('Timestamps are not strictly increasing for datasource file {}'.format(self.path))\n",
      " 33%|███▎      | 2/6 [00:00<00:00,  6.03it/s]"
     ]
    },
    {
     "name": "stdout",
     "output_type": "stream",
     "text": [
      "Pixell Log: The cache is set to use calibration angles.\n"
     ]
    },
    {
     "name": "stderr",
     "output_type": "stream",
     "text": [
      " 50%|█████     | 3/6 [00:00<00:00,  5.65it/s]/home/olivier/workspace/das/das/api/filesource.py:261: UserWarning: Timestamps are not strictly increasing for datasource file /nas/pixset/exportedDataset/20200407_124505_rec_dataset_calib_paul02_gd_carreaux_exported/flir_bfl_img.zip\n",
      "  warnings.warn('Timestamps are not strictly increasing for datasource file {}'.format(self.path))\n",
      "100%|██████████| 6/6 [00:00<00:00,  7.30it/s]\n",
      " 33%|███▎      | 2/6 [00:00<00:00,  6.82it/s]"
     ]
    },
    {
     "name": "stdout",
     "output_type": "stream",
     "text": [
      "Pixell Log: The cache is set to use calibration angles.\n",
      "Pixell Log: time base delays are converted to lcas referential.\n"
     ]
    },
    {
     "name": "stderr",
     "output_type": "stream",
     "text": [
      "100%|██████████| 6/6 [00:00<00:00,  8.73it/s]\n",
      " 33%|███▎      | 2/6 [00:00<00:00,  6.04it/s]"
     ]
    },
    {
     "name": "stdout",
     "output_type": "stream",
     "text": [
      "Pixell Log: The cache is set to use calibration angles.\n",
      "Pixell Log: time base delays are converted to lcas referential.\n"
     ]
    },
    {
     "name": "stderr",
     "output_type": "stream",
     "text": [
      "100%|██████████| 6/6 [00:00<00:00,  8.36it/s]\n"
     ]
    }
   ],
   "source": [
    "#Load datasets, platforms, and frames range:\n",
    "__datasets=[\n",
    "    '/nas/pixset/exportedDataset/20200325_145233_rec_dataset_calib_jeanne01_exported/',\n",
    "    '/nas/pixset/exportedDataset/20200325_151131_rec_dataset_calib_paul01_exported/',\n",
    "    '/nas/pixset/exportedDataset/20200407_112921_rec_dataset_calib_jeanne02_gd_carreaux_exported/',\n",
    "    '/nas/pixset/exportedDataset/20200407_124505_rec_dataset_calib_paul02_gd_carreaux_exported/',\n",
    "    '/nas/pixset/exportedDataset/20200502_172647_rec_dataset_pierre01_grands_carreaux_exported/',\n",
    "    '/nas/pixset/exportedDataset/20200502_172126_rec_dataset_jeanne03_grands_carreaux_exported/'\n",
    "] \n",
    "\n",
    "pfs = [platform.Platform(omega) for omega in __datasets]\n",
    "\n",
    "source = 'ouster64_bfc_xyzit'\n",
    "destination = 'flir_bfc_img'"
   ]
  },
  {
   "cell_type": "code",
   "execution_count": 5,
   "metadata": {},
   "outputs": [],
   "source": [
    "#frames of interest from flir_bfc in same order as platform:\n",
    "__frames_bfc = [\n",
    "    np.concatenate((np.arange(2,11),\n",
    "                        np.arange(37,131),\n",
    "                        np.arange(175,187),\n",
    "                        np.arange(241,426))),\n",
    "    np.concatenate((np.arange(0,40),\n",
    "                        np.arange(75,80),\n",
    "                        np.arange(111,166),\n",
    "                        np.arange(250,310),\n",
    "                        np.arange(353,439))),\n",
    "    np.arange(1,192),\n",
    "    np.concatenate((np.arange(0,264),\n",
    "                        np.arange(397,404))),\n",
    "    np.concatenate((np.arange(15,24),\n",
    "                           np.arange(33,40),\n",
    "                           np.arange(53,69),\n",
    "                           np.arange(75,92),\n",
    "                           np.arange(109,120),\n",
    "                           np.arange(129,140))),\n",
    "    np.concatenate((np.arange(3,9),\n",
    "                           np.arange(88,95),\n",
    "                           np.arange(124,133),\n",
    "                           np.arange(150,165),\n",
    "                           np.arange(193,250),\n",
    "                           np.arange(254,258),\n",
    "                           np.arange(292,314)))\n",
    "]"
   ]
  },
  {
   "cell_type": "code",
   "execution_count": 6,
   "metadata": {},
   "outputs": [],
   "source": [
    "#Parameters of initial guess:\n",
    "#The homogenous transformation from flir_camera to camera can be obtained from dasview, or by\n",
    "# solving a single frame with SVD.\n",
    "\n",
    "#Camera must have intrinsic calib first:\n",
    "mtx, dist = E.load_intrinsic_camera(__datasets[5]+'intrinsics/flir_bfc_calib-results.pkl')\n",
    "\n",
    "with open(__datasets[0]+'extrinsics/ouster64_tfc-flir_bfc.pkl', 'rb') as g:\n",
    "    tf_from_ouster_to_flir_bfc = pickle.load(g)\n",
    "\n",
    "tf_from_flir_bfc_to_ouster = linalg.tf_inv(tf_from_ouster_to_flir_bfc)\n",
    "r, t = tf_from_flir_bfc_to_ouster[:3,:3], tf_from_flir_bfc_to_ouster[:3,3:]"
   ]
  },
  {
   "cell_type": "code",
   "execution_count": 7,
   "metadata": {},
   "outputs": [
    {
     "data": {
      "text/plain": [
       "(array([[820.24753975,   0.        , 734.30704743],\n",
       "        [  0.        , 820.78873052, 552.62262377],\n",
       "        [  0.        ,   0.        ,   1.        ]]),\n",
       " array([[-0.22649187,  0.10065042, -0.00026163, -0.00022689, -0.02206318]]),\n",
       " array([[ 6.06826773e-03, -2.02354674e-05,  9.99981588e-01],\n",
       "        [-9.99947570e-01, -8.24850946e-03,  6.06789438e-03],\n",
       "        [ 8.24823480e-03, -9.99965980e-01, -7.02885703e-05]]),\n",
       " array([[ 0.13941018],\n",
       "        [-0.00108739],\n",
       "        [-0.10272664]]))"
      ]
     },
     "execution_count": 7,
     "metadata": {},
     "output_type": "execute_result"
    }
   ],
   "source": [
    "mtx, dist, r, t"
   ]
  },
  {
   "cell_type": "code",
   "execution_count": 8,
   "metadata": {},
   "outputs": [
    {
     "name": "stdout",
     "output_type": "stream",
     "text": [
      "translations :[ 0.13941018 -0.00108739 -0.10272664], norm:0.17317373549655454\n",
      "Ax Angle vector:[-0.58127064  0.57300802 -0.57774238], angle (deg):120.07447490928172\n",
      "Euler Angle (deg):[-90.00402738  -0.4725944  -89.65229991]\n"
     ]
    }
   ],
   "source": [
    "DI.print_transf_result(tf_from_flir_bfc_to_ouster)"
   ]
  },
  {
   "cell_type": "code",
   "execution_count": 9,
   "metadata": {},
   "outputs": [],
   "source": [
    "prior_bfc = E.ProtoCameraToLidar(checkerboard, mtx, dist, r,t,'c', epsilons=(1.5,1.25,1.25))"
   ]
  },
  {
   "cell_type": "code",
   "execution_count": null,
   "metadata": {},
   "outputs": [],
   "source": []
  },
  {
   "cell_type": "code",
   "execution_count": 21,
   "metadata": {},
   "outputs": [],
   "source": [
    "#Init params:\n",
    "corners_cam_uv = []\n",
    "corners_ous = []\n",
    "corners_cam = []\n"
   ]
  },
  {
   "cell_type": "code",
   "execution_count": 22,
   "metadata": {},
   "outputs": [],
   "source": [
    "corners_mask = []\n",
    "corners_mask_ = [\n",
    "    0,1,1,0,\n",
    "    0,1,1,0,\n",
    "    0,1,1,0\n",
    "]\n",
    "#corners_mask_ = [\n",
    "#    0,0,0,0,\n",
    "#    0,1,1,0,\n",
    "#    0,0,0,0\n",
    "#]"
   ]
  },
  {
   "cell_type": "code",
   "execution_count": null,
   "metadata": {},
   "outputs": [],
   "source": []
  },
  {
   "cell_type": "code",
   "execution_count": 23,
   "metadata": {},
   "outputs": [
    {
     "name": "stderr",
     "output_type": "stream",
     "text": [
      "\n",
      "  0%|          | 0/120 [00:00<?, ?it/s]\u001b[A\n",
      "  1%|          | 1/120 [00:00<00:24,  4.88it/s]\u001b[A"
     ]
    },
    {
     "name": "stdout",
     "output_type": "stream",
     "text": [
      "Log: 3D points for ouster64_bfc are corrected with T 25.94: global offset is -0.15\n"
     ]
    },
    {
     "name": "stderr",
     "output_type": "stream",
     "text": [
      "\n",
      "  2%|▏         | 2/120 [00:00<00:23,  4.93it/s]\u001b[A"
     ]
    },
    {
     "name": "stdout",
     "output_type": "stream",
     "text": [
      "Log: 3D points for ouster64_bfc are corrected with T 25.94: global offset is -0.15\n",
      "Log: 3D points for ouster64_bfc are corrected with T 25.94: global offset is -0.15\n"
     ]
    },
    {
     "name": "stderr",
     "output_type": "stream",
     "text": [
      "\n",
      "  2%|▎         | 3/120 [00:00<00:23,  5.00it/s]\u001b[A\n",
      "  3%|▎         | 4/120 [00:02<01:20,  1.45it/s]\u001b[A"
     ]
    },
    {
     "name": "stdout",
     "output_type": "stream",
     "text": [
      "Log: 3D points for ouster64_bfc are corrected with T 25.94: global offset is -0.15\n",
      "Log: 3D points for ouster64_bfc are corrected with T 25.94: global offset is -0.15\n"
     ]
    },
    {
     "name": "stderr",
     "output_type": "stream",
     "text": [
      "\n",
      "  4%|▍         | 5/120 [00:03<01:33,  1.23it/s]\u001b[A"
     ]
    },
    {
     "name": "stdout",
     "output_type": "stream",
     "text": [
      "Log: 3D points for ouster64_bfc are corrected with T 25.94: global offset is -0.15\n"
     ]
    },
    {
     "name": "stderr",
     "output_type": "stream",
     "text": [
      "\n",
      "  5%|▌         | 6/120 [00:05<02:15,  1.18s/it]\u001b[A"
     ]
    },
    {
     "name": "stdout",
     "output_type": "stream",
     "text": [
      "Log: 3D points for ouster64_bfc are corrected with T 26.0: global offset is -0.15\n"
     ]
    },
    {
     "name": "stderr",
     "output_type": "stream",
     "text": [
      "\n",
      "  6%|▌         | 7/120 [00:08<02:57,  1.57s/it]\u001b[A"
     ]
    },
    {
     "name": "stdout",
     "output_type": "stream",
     "text": [
      "Log: 3D points for ouster64_bfc are corrected with T 26.0: global offset is -0.15\n"
     ]
    },
    {
     "name": "stderr",
     "output_type": "stream",
     "text": [
      "\n",
      "  7%|▋         | 8/120 [00:09<02:53,  1.55s/it]\u001b[A"
     ]
    },
    {
     "name": "stdout",
     "output_type": "stream",
     "text": [
      "Log: 3D points for ouster64_bfc are corrected with T 26.0: global offset is -0.15\n"
     ]
    },
    {
     "name": "stderr",
     "output_type": "stream",
     "text": [
      "\n",
      "  8%|▊         | 9/120 [00:10<02:27,  1.33s/it]\u001b[A"
     ]
    },
    {
     "name": "stdout",
     "output_type": "stream",
     "text": [
      "Log: 3D points for ouster64_bfc are corrected with T 26.0: global offset is -0.15\n"
     ]
    },
    {
     "name": "stderr",
     "output_type": "stream",
     "text": [
      "\n",
      "  8%|▊         | 10/120 [00:11<02:19,  1.27s/it]\u001b[A"
     ]
    },
    {
     "name": "stdout",
     "output_type": "stream",
     "text": [
      "Log: 3D points for ouster64_bfc are corrected with T 26.0: global offset is -0.15\n"
     ]
    },
    {
     "name": "stderr",
     "output_type": "stream",
     "text": [
      "\n",
      "  9%|▉         | 11/120 [00:12<02:10,  1.20s/it]\u001b[A"
     ]
    },
    {
     "name": "stdout",
     "output_type": "stream",
     "text": [
      "Log: 3D points for ouster64_bfc are corrected with T 26.0: global offset is -0.15\n"
     ]
    },
    {
     "name": "stderr",
     "output_type": "stream",
     "text": [
      "\n",
      " 10%|█         | 12/120 [00:14<02:31,  1.40s/it]\u001b[A"
     ]
    },
    {
     "name": "stdout",
     "output_type": "stream",
     "text": [
      "Log: 3D points for ouster64_bfc are corrected with T 26.0: global offset is -0.15\n"
     ]
    },
    {
     "name": "stderr",
     "output_type": "stream",
     "text": [
      "\n",
      " 11%|█         | 13/120 [00:15<02:18,  1.30s/it]\u001b[A"
     ]
    },
    {
     "name": "stdout",
     "output_type": "stream",
     "text": [
      "Log: 3D points for ouster64_bfc are corrected with T 25.81: global offset is -0.15\n"
     ]
    },
    {
     "name": "stderr",
     "output_type": "stream",
     "text": [
      "\n",
      " 12%|█▏        | 14/120 [00:17<02:32,  1.44s/it]\u001b[A\n",
      " 12%|█▎        | 15/120 [00:18<02:31,  1.44s/it]\u001b[A"
     ]
    },
    {
     "name": "stdout",
     "output_type": "stream",
     "text": [
      "Log: 3D points for ouster64_bfc are corrected with T 25.81: global offset is -0.15\n",
      "Log: 3D points for ouster64_bfc are corrected with T 25.87: global offset is -0.15\n"
     ]
    },
    {
     "name": "stderr",
     "output_type": "stream",
     "text": [
      "\n",
      " 13%|█▎        | 16/120 [00:18<01:51,  1.07s/it]\u001b[A"
     ]
    },
    {
     "name": "stdout",
     "output_type": "stream",
     "text": [
      "Log: 3D points for ouster64_bfc are corrected with T 25.87: global offset is -0.15\n"
     ]
    },
    {
     "name": "stderr",
     "output_type": "stream",
     "text": [
      "\n",
      " 14%|█▍        | 17/120 [00:19<01:24,  1.22it/s]\u001b[A"
     ]
    },
    {
     "name": "stdout",
     "output_type": "stream",
     "text": [
      "Log: 3D points for ouster64_bfc are corrected with T 25.81: global offset is -0.15\n"
     ]
    },
    {
     "name": "stderr",
     "output_type": "stream",
     "text": [
      "\n",
      " 15%|█▌        | 18/120 [00:19<01:05,  1.57it/s]\u001b[A\n",
      " 16%|█▌        | 19/120 [00:19<00:51,  1.97it/s]\u001b[A"
     ]
    },
    {
     "name": "stdout",
     "output_type": "stream",
     "text": [
      "Log: 3D points for ouster64_bfc are corrected with T 25.81: global offset is -0.15\n",
      "Log: 3D points for ouster64_bfc are corrected with T 25.81: global offset is -0.15\n"
     ]
    },
    {
     "name": "stderr",
     "output_type": "stream",
     "text": [
      "\n",
      " 17%|█▋        | 20/120 [00:19<00:42,  2.35it/s]\u001b[A"
     ]
    },
    {
     "name": "stdout",
     "output_type": "stream",
     "text": [
      "Log: 3D points for ouster64_bfc are corrected with T 25.81: global offset is -0.15\n"
     ]
    },
    {
     "name": "stderr",
     "output_type": "stream",
     "text": [
      "\n",
      " 18%|█▊        | 21/120 [00:21<01:25,  1.15it/s]\u001b[A"
     ]
    },
    {
     "name": "stdout",
     "output_type": "stream",
     "text": [
      "Log: 3D points for ouster64_bfc are corrected with T 25.81: global offset is -0.15\n"
     ]
    },
    {
     "name": "stderr",
     "output_type": "stream",
     "text": [
      "\n",
      " 18%|█▊        | 22/120 [00:22<01:36,  1.01it/s]\u001b[A\n",
      " 19%|█▉        | 23/120 [00:24<01:46,  1.10s/it]\u001b[A"
     ]
    },
    {
     "name": "stdout",
     "output_type": "stream",
     "text": [
      "Log: 3D points for ouster64_bfc are corrected with T 25.81: global offset is -0.15\n"
     ]
    },
    {
     "name": "stderr",
     "output_type": "stream",
     "text": [
      "\n",
      " 20%|██        | 24/120 [00:25<01:40,  1.05s/it]\u001b[A"
     ]
    },
    {
     "name": "stdout",
     "output_type": "stream",
     "text": [
      "Log: 3D points for ouster64_bfc are corrected with T 25.81: global offset is -0.15\n"
     ]
    },
    {
     "name": "stderr",
     "output_type": "stream",
     "text": [
      "\n",
      " 21%|██        | 25/120 [00:25<01:30,  1.05it/s]\u001b[A"
     ]
    },
    {
     "name": "stdout",
     "output_type": "stream",
     "text": [
      "Log: 3D points for ouster64_bfc are corrected with T 25.81: global offset is -0.15\n"
     ]
    },
    {
     "name": "stderr",
     "output_type": "stream",
     "text": [
      "\n",
      " 22%|██▏       | 26/120 [00:26<01:31,  1.02it/s]\u001b[A"
     ]
    },
    {
     "name": "stdout",
     "output_type": "stream",
     "text": [
      "Log: 3D points for ouster64_bfc are corrected with T 25.81: global offset is -0.15\n",
      "Log: 3D points for ouster64_bfc are corrected with T 25.81: global offset is -0.15\n"
     ]
    },
    {
     "name": "stderr",
     "output_type": "stream",
     "text": [
      "\n",
      " 22%|██▎       | 27/120 [00:29<02:04,  1.34s/it]\u001b[A"
     ]
    },
    {
     "name": "stdout",
     "output_type": "stream",
     "text": [
      "Log: 3D points for ouster64_bfc are corrected with T 25.81: global offset is -0.15\n"
     ]
    },
    {
     "name": "stderr",
     "output_type": "stream",
     "text": [
      "\n",
      " 23%|██▎       | 28/120 [00:31<02:41,  1.76s/it]\u001b[A\n",
      " 24%|██▍       | 29/120 [00:32<02:19,  1.54s/it]\u001b[A"
     ]
    },
    {
     "name": "stdout",
     "output_type": "stream",
     "text": [
      "Log: 3D points for ouster64_bfc are corrected with T 25.81: global offset is -0.15\n"
     ]
    },
    {
     "name": "stderr",
     "output_type": "stream",
     "text": [
      "\n",
      " 25%|██▌       | 30/120 [00:33<02:00,  1.34s/it]\u001b[A"
     ]
    },
    {
     "name": "stdout",
     "output_type": "stream",
     "text": [
      "Log: 3D points for ouster64_bfc are corrected with T 25.81: global offset is -0.15\n"
     ]
    },
    {
     "name": "stderr",
     "output_type": "stream",
     "text": [
      "\n",
      " 26%|██▌       | 31/120 [00:34<01:48,  1.22s/it]\u001b[A"
     ]
    },
    {
     "name": "stdout",
     "output_type": "stream",
     "text": [
      "Log: 3D points for ouster64_bfc are corrected with T 25.81: global offset is -0.15\n",
      "Log: 3D points for ouster64_bfc are corrected with T 25.81: global offset is -0.15\n"
     ]
    },
    {
     "name": "stderr",
     "output_type": "stream",
     "text": [
      "\n",
      " 27%|██▋       | 32/120 [00:35<01:40,  1.14s/it]\u001b[A\n",
      " 28%|██▊       | 33/120 [00:36<01:41,  1.16s/it]\u001b[A"
     ]
    },
    {
     "name": "stdout",
     "output_type": "stream",
     "text": [
      "Log: 3D points for ouster64_bfc are corrected with T 25.81: global offset is -0.15\n"
     ]
    },
    {
     "name": "stderr",
     "output_type": "stream",
     "text": [
      "\n",
      " 28%|██▊       | 34/120 [00:37<01:35,  1.12s/it]\u001b[A"
     ]
    },
    {
     "name": "stdout",
     "output_type": "stream",
     "text": [
      "Log: 3D points for ouster64_bfc are corrected with T 25.81: global offset is -0.15\n"
     ]
    },
    {
     "name": "stderr",
     "output_type": "stream",
     "text": [
      "\n",
      " 29%|██▉       | 35/120 [00:38<01:31,  1.08s/it]\u001b[A"
     ]
    },
    {
     "name": "stdout",
     "output_type": "stream",
     "text": [
      "Log: 3D points for ouster64_bfc are corrected with T 25.81: global offset is -0.15\n"
     ]
    },
    {
     "name": "stderr",
     "output_type": "stream",
     "text": [
      "\n",
      " 30%|███       | 36/120 [00:39<01:23,  1.00it/s]\u001b[A"
     ]
    },
    {
     "name": "stdout",
     "output_type": "stream",
     "text": [
      "Log: 3D points for ouster64_bfc are corrected with T 25.81: global offset is -0.15\n",
      "Log: 3D points for ouster64_bfc are corrected with T 25.87: global offset is -0.15\n"
     ]
    },
    {
     "name": "stderr",
     "output_type": "stream",
     "text": [
      "\n",
      " 31%|███       | 37/120 [00:41<01:37,  1.17s/it]\u001b[A\n",
      " 32%|███▏      | 38/120 [00:42<01:41,  1.23s/it]\u001b[A"
     ]
    },
    {
     "name": "stdout",
     "output_type": "stream",
     "text": [
      "Log: 3D points for ouster64_bfc are corrected with T 25.94: global offset is -0.15\n"
     ]
    },
    {
     "name": "stderr",
     "output_type": "stream",
     "text": [
      "\n",
      " 32%|███▎      | 39/120 [00:44<01:52,  1.38s/it]\u001b[A"
     ]
    },
    {
     "name": "stdout",
     "output_type": "stream",
     "text": [
      "Log: 3D points for ouster64_bfc are corrected with T 25.94: global offset is -0.15\n",
      "Log: 3D points for ouster64_bfc are corrected with T 25.94: global offset is -0.15\n"
     ]
    },
    {
     "name": "stderr",
     "output_type": "stream",
     "text": [
      "\n",
      " 33%|███▎      | 40/120 [00:46<02:06,  1.59s/it]\u001b[A"
     ]
    },
    {
     "name": "stdout",
     "output_type": "stream",
     "text": [
      "Log: 3D points for ouster64_bfc are corrected with T 25.94: global offset is -0.15\n"
     ]
    },
    {
     "name": "stderr",
     "output_type": "stream",
     "text": [
      "\n",
      " 34%|███▍      | 41/120 [00:48<02:15,  1.71s/it]\u001b[A\n",
      " 35%|███▌      | 42/120 [00:49<01:56,  1.49s/it]\u001b[A"
     ]
    },
    {
     "name": "stdout",
     "output_type": "stream",
     "text": [
      "Log: 3D points for ouster64_bfc are corrected with T 25.94: global offset is -0.15\n"
     ]
    },
    {
     "name": "stderr",
     "output_type": "stream",
     "text": [
      "\n",
      " 36%|███▌      | 43/120 [00:50<01:44,  1.36s/it]\u001b[A"
     ]
    },
    {
     "name": "stdout",
     "output_type": "stream",
     "text": [
      "Log: 3D points for ouster64_bfc are corrected with T 25.94: global offset is -0.15\n"
     ]
    },
    {
     "name": "stderr",
     "output_type": "stream",
     "text": [
      "\n",
      " 37%|███▋      | 44/120 [00:51<01:36,  1.28s/it]\u001b[A"
     ]
    },
    {
     "name": "stdout",
     "output_type": "stream",
     "text": [
      "Log: 3D points for ouster64_bfc are corrected with T 25.94: global offset is -0.15\n",
      "Log: 3D points for ouster64_bfc are corrected with T 25.94: global offset is -0.15\n"
     ]
    },
    {
     "name": "stderr",
     "output_type": "stream",
     "text": [
      "\n",
      " 38%|███▊      | 45/120 [00:52<01:32,  1.24s/it]\u001b[A"
     ]
    },
    {
     "name": "stdout",
     "output_type": "stream",
     "text": [
      "Log: 3D points for ouster64_bfc are corrected with T 26.0: global offset is -0.15\n"
     ]
    },
    {
     "name": "stderr",
     "output_type": "stream",
     "text": [
      "\n",
      " 38%|███▊      | 46/120 [00:54<01:51,  1.51s/it]\u001b[A\n",
      " 39%|███▉      | 47/120 [00:55<01:38,  1.35s/it]\u001b[A"
     ]
    },
    {
     "name": "stdout",
     "output_type": "stream",
     "text": [
      "Log: 3D points for ouster64_bfc are corrected with T 26.0: global offset is -0.15\n",
      "Log: 3D points for ouster64_bfc are corrected with T 26.0: global offset is -0.15\n"
     ]
    },
    {
     "name": "stderr",
     "output_type": "stream",
     "text": [
      "\n",
      " 40%|████      | 48/120 [00:57<01:49,  1.53s/it]\u001b[A\n",
      " 41%|████      | 49/120 [00:58<01:33,  1.31s/it]\u001b[A"
     ]
    },
    {
     "name": "stdout",
     "output_type": "stream",
     "text": [
      "Log: 3D points for ouster64_bfc are corrected with T 26.0: global offset is -0.15\n"
     ]
    },
    {
     "name": "stderr",
     "output_type": "stream",
     "text": [
      "\n",
      " 42%|████▏     | 50/120 [00:59<01:24,  1.21s/it]\u001b[A"
     ]
    },
    {
     "name": "stdout",
     "output_type": "stream",
     "text": [
      "Log: 3D points for ouster64_bfc are corrected with T 26.0: global offset is -0.15\n",
      "Log: 3D points for ouster64_bfc are corrected with T 26.0: global offset is -0.15\n"
     ]
    },
    {
     "name": "stderr",
     "output_type": "stream",
     "text": [
      "\n",
      " 42%|████▎     | 51/120 [01:01<01:39,  1.44s/it]\u001b[A"
     ]
    },
    {
     "name": "stdout",
     "output_type": "stream",
     "text": [
      "Log: 3D points for ouster64_bfc are corrected with T 26.0: global offset is -0.15\n"
     ]
    },
    {
     "name": "stderr",
     "output_type": "stream",
     "text": [
      "\n",
      " 43%|████▎     | 52/120 [01:03<01:47,  1.58s/it]\u001b[A\n",
      " 44%|████▍     | 53/120 [01:04<01:34,  1.41s/it]\u001b[A"
     ]
    },
    {
     "name": "stdout",
     "output_type": "stream",
     "text": [
      "Log: 3D points for ouster64_bfc are corrected with T 26.0: global offset is -0.15\n"
     ]
    },
    {
     "name": "stderr",
     "output_type": "stream",
     "text": [
      "\n",
      " 45%|████▌     | 54/120 [01:06<01:47,  1.63s/it]\u001b[A"
     ]
    },
    {
     "name": "stdout",
     "output_type": "stream",
     "text": [
      "Log: 3D points for ouster64_bfc are corrected with T 26.0: global offset is -0.15\n"
     ]
    },
    {
     "name": "stderr",
     "output_type": "stream",
     "text": [
      "\n",
      " 46%|████▌     | 55/120 [01:08<01:45,  1.62s/it]\u001b[A"
     ]
    },
    {
     "name": "stdout",
     "output_type": "stream",
     "text": [
      "Log: 3D points for ouster64_bfc are corrected with T 26.0: global offset is -0.15\n"
     ]
    },
    {
     "name": "stderr",
     "output_type": "stream",
     "text": [
      "\n",
      " 47%|████▋     | 56/120 [01:09<01:33,  1.46s/it]\u001b[A"
     ]
    },
    {
     "name": "stdout",
     "output_type": "stream",
     "text": [
      "Log: 3D points for ouster64_bfc are corrected with T 26.0: global offset is -0.15\n"
     ]
    },
    {
     "name": "stderr",
     "output_type": "stream",
     "text": [
      "\n",
      " 48%|████▊     | 57/120 [01:10<01:33,  1.49s/it]\u001b[A"
     ]
    },
    {
     "name": "stdout",
     "output_type": "stream",
     "text": [
      "Log: 3D points for ouster64_bfc are corrected with T 26.0: global offset is -0.15\n",
      "Log: 3D points for ouster64_bfc are corrected with T 26.0: global offset is -0.15\n"
     ]
    },
    {
     "name": "stderr",
     "output_type": "stream",
     "text": [
      "\n",
      " 48%|████▊     | 58/120 [01:13<01:55,  1.86s/it]\u001b[A\n",
      " 49%|████▉     | 59/120 [01:14<01:42,  1.67s/it]\u001b[A"
     ]
    },
    {
     "name": "stdout",
     "output_type": "stream",
     "text": [
      "Log: 3D points for ouster64_bfc are corrected with T 26.0: global offset is -0.15\n",
      "Log: 3D points for ouster64_bfc are corrected with T 26.0: global offset is -0.15\n"
     ]
    },
    {
     "name": "stderr",
     "output_type": "stream",
     "text": [
      "\n",
      " 50%|█████     | 60/120 [01:16<01:32,  1.54s/it]\u001b[A\n",
      " 51%|█████     | 61/120 [01:17<01:21,  1.39s/it]\u001b[A"
     ]
    },
    {
     "name": "stdout",
     "output_type": "stream",
     "text": [
      "Log: 3D points for ouster64_bfc are corrected with T 26.0: global offset is -0.15\n"
     ]
    },
    {
     "name": "stderr",
     "output_type": "stream",
     "text": [
      "\n",
      " 52%|█████▏    | 62/120 [01:18<01:13,  1.27s/it]\u001b[A"
     ]
    },
    {
     "name": "stdout",
     "output_type": "stream",
     "text": [
      "Log: 3D points for ouster64_bfc are corrected with T 26.0: global offset is -0.15\n"
     ]
    },
    {
     "name": "stderr",
     "output_type": "stream",
     "text": [
      "\n",
      " 52%|█████▎    | 63/120 [01:19<01:08,  1.20s/it]\u001b[A"
     ]
    },
    {
     "name": "stdout",
     "output_type": "stream",
     "text": [
      "Log: 3D points for ouster64_bfc are corrected with T 26.0: global offset is -0.15\n"
     ]
    },
    {
     "name": "stderr",
     "output_type": "stream",
     "text": [
      "\n",
      " 53%|█████▎    | 64/120 [01:19<01:00,  1.08s/it]\u001b[A"
     ]
    },
    {
     "name": "stdout",
     "output_type": "stream",
     "text": [
      "Log: 3D points for ouster64_bfc are corrected with T 26.0: global offset is -0.15\n"
     ]
    },
    {
     "name": "stderr",
     "output_type": "stream",
     "text": [
      "\n",
      " 54%|█████▍    | 65/120 [01:20<00:55,  1.01s/it]\u001b[A"
     ]
    },
    {
     "name": "stdout",
     "output_type": "stream",
     "text": [
      "Log: 3D points for ouster64_bfc are corrected with T 26.0: global offset is -0.15\n",
      "Log: 3D points for ouster64_bfc are corrected with T 26.0: global offset is -0.15\n"
     ]
    },
    {
     "name": "stderr",
     "output_type": "stream",
     "text": [
      "\n",
      " 55%|█████▌    | 66/120 [01:21<00:58,  1.08s/it]\u001b[A\n",
      " 56%|█████▌    | 67/120 [01:23<01:10,  1.33s/it]\u001b[A"
     ]
    },
    {
     "name": "stdout",
     "output_type": "stream",
     "text": [
      "Log: 3D points for ouster64_bfc are corrected with T 26.0: global offset is -0.15\n"
     ]
    },
    {
     "name": "stderr",
     "output_type": "stream",
     "text": [
      "\n",
      " 57%|█████▋    | 68/120 [01:25<01:20,  1.54s/it]\u001b[A"
     ]
    },
    {
     "name": "stdout",
     "output_type": "stream",
     "text": [
      "Log: 3D points for ouster64_bfc are corrected with T 26.0: global offset is -0.15\n",
      "Log: 3D points for ouster64_bfc are corrected with T 26.0: global offset is -0.15\n"
     ]
    },
    {
     "name": "stderr",
     "output_type": "stream",
     "text": [
      "\n",
      " 57%|█████▊    | 69/120 [01:27<01:25,  1.68s/it]\u001b[A\n",
      " 58%|█████▊    | 70/120 [01:28<01:13,  1.48s/it]\u001b[A"
     ]
    },
    {
     "name": "stdout",
     "output_type": "stream",
     "text": [
      "Log: 3D points for ouster64_bfc are corrected with T 26.0: global offset is -0.15\n",
      "Log: 3D points for ouster64_bfc are corrected with T 26.0: global offset is -0.15\n"
     ]
    },
    {
     "name": "stderr",
     "output_type": "stream",
     "text": [
      "\n",
      " 59%|█████▉    | 71/120 [01:30<01:07,  1.38s/it]\u001b[A\n",
      " 60%|██████    | 72/120 [01:31<01:01,  1.29s/it]\u001b[A"
     ]
    },
    {
     "name": "stdout",
     "output_type": "stream",
     "text": [
      "Log: 3D points for ouster64_bfc are corrected with T 26.0: global offset is -0.15\n"
     ]
    },
    {
     "name": "stderr",
     "output_type": "stream",
     "text": [
      "\n",
      " 61%|██████    | 73/120 [01:32<00:59,  1.26s/it]\u001b[A"
     ]
    },
    {
     "name": "stdout",
     "output_type": "stream",
     "text": [
      "Log: 3D points for ouster64_bfc are corrected with T 26.0: global offset is -0.15\n"
     ]
    },
    {
     "name": "stderr",
     "output_type": "stream",
     "text": [
      "\n",
      " 62%|██████▏   | 74/120 [01:34<01:03,  1.37s/it]\u001b[A"
     ]
    },
    {
     "name": "stdout",
     "output_type": "stream",
     "text": [
      "Log: 3D points for ouster64_bfc are corrected with T 26.0: global offset is -0.15\n",
      "Log: 3D points for ouster64_bfc are corrected with T 26.0: global offset is -0.15\n"
     ]
    },
    {
     "name": "stderr",
     "output_type": "stream",
     "text": [
      "\n",
      " 62%|██████▎   | 75/120 [01:35<00:57,  1.27s/it]\u001b[A"
     ]
    },
    {
     "name": "stdout",
     "output_type": "stream",
     "text": [
      "Log: 3D points for ouster64_bfc are corrected with T 26.0: global offset is -0.15\n"
     ]
    },
    {
     "name": "stderr",
     "output_type": "stream",
     "text": [
      "\n",
      " 63%|██████▎   | 76/120 [01:36<01:03,  1.45s/it]\u001b[A"
     ]
    },
    {
     "name": "stdout",
     "output_type": "stream",
     "text": [
      "Log: 3D points for ouster64_bfc are corrected with T 26.0: global offset is -0.15\n"
     ]
    },
    {
     "name": "stderr",
     "output_type": "stream",
     "text": [
      "\n",
      " 64%|██████▍   | 77/120 [01:38<01:08,  1.60s/it]\u001b[A"
     ]
    },
    {
     "name": "stdout",
     "output_type": "stream",
     "text": [
      "Log: 3D points for ouster64_bfc are corrected with T 26.0: global offset is -0.15\n"
     ]
    },
    {
     "name": "stderr",
     "output_type": "stream",
     "text": [
      "\n",
      " 65%|██████▌   | 78/120 [01:40<01:01,  1.46s/it]\u001b[A"
     ]
    },
    {
     "name": "stdout",
     "output_type": "stream",
     "text": [
      "Log: 3D points for ouster64_bfc are corrected with T 26.0: global offset is -0.15\n"
     ]
    },
    {
     "name": "stderr",
     "output_type": "stream",
     "text": [
      "\n",
      " 66%|██████▌   | 79/120 [01:41<00:55,  1.35s/it]\u001b[A"
     ]
    },
    {
     "name": "stdout",
     "output_type": "stream",
     "text": [
      "Log: 3D points for ouster64_bfc are corrected with T 26.0: global offset is -0.15\n"
     ]
    },
    {
     "name": "stderr",
     "output_type": "stream",
     "text": [
      "\n",
      " 67%|██████▋   | 80/120 [01:42<00:49,  1.24s/it]\u001b[A"
     ]
    },
    {
     "name": "stdout",
     "output_type": "stream",
     "text": [
      "Log: 3D points for ouster64_bfc are corrected with T 26.0: global offset is -0.15\n"
     ]
    },
    {
     "name": "stderr",
     "output_type": "stream",
     "text": [
      "\n",
      " 68%|██████▊   | 81/120 [01:43<00:56,  1.44s/it]\u001b[A"
     ]
    },
    {
     "name": "stdout",
     "output_type": "stream",
     "text": [
      "Log: 3D points for ouster64_bfc are corrected with T 26.0: global offset is -0.15\n"
     ]
    },
    {
     "name": "stderr",
     "output_type": "stream",
     "text": [
      "\n",
      " 68%|██████▊   | 82/120 [01:46<01:04,  1.71s/it]\u001b[A"
     ]
    },
    {
     "name": "stdout",
     "output_type": "stream",
     "text": [
      "Log: 3D points for ouster64_bfc are corrected with T 26.0: global offset is -0.15\n"
     ]
    },
    {
     "name": "stderr",
     "output_type": "stream",
     "text": [
      "\n",
      " 69%|██████▉   | 83/120 [01:48<01:06,  1.81s/it]\u001b[A\n",
      " 70%|███████   | 84/120 [01:49<00:56,  1.57s/it]\u001b[A"
     ]
    },
    {
     "name": "stdout",
     "output_type": "stream",
     "text": [
      "Log: 3D points for ouster64_bfc are corrected with T 26.0: global offset is -0.15\n",
      "Log: 3D points for ouster64_bfc are corrected with T 26.0: global offset is -0.15\n"
     ]
    },
    {
     "name": "stderr",
     "output_type": "stream",
     "text": [
      "\n",
      " 71%|███████   | 85/120 [01:50<00:50,  1.45s/it]\u001b[A"
     ]
    },
    {
     "name": "stdout",
     "output_type": "stream",
     "text": [
      "Log: 3D points for ouster64_bfc are corrected with T 26.0: global offset is -0.15\n"
     ]
    },
    {
     "name": "stderr",
     "output_type": "stream",
     "text": [
      "\n",
      " 72%|███████▏  | 86/120 [01:51<00:46,  1.36s/it]\u001b[A\n",
      " 72%|███████▎  | 87/120 [01:53<00:45,  1.38s/it]\u001b[A"
     ]
    },
    {
     "name": "stdout",
     "output_type": "stream",
     "text": [
      "Log: 3D points for ouster64_bfc are corrected with T 26.0: global offset is -0.15\n"
     ]
    },
    {
     "name": "stderr",
     "output_type": "stream",
     "text": [
      "\n",
      " 73%|███████▎  | 88/120 [01:54<00:40,  1.28s/it]\u001b[A"
     ]
    },
    {
     "name": "stdout",
     "output_type": "stream",
     "text": [
      "Log: 3D points for ouster64_bfc are corrected with T 26.0: global offset is -0.15\n"
     ]
    },
    {
     "name": "stderr",
     "output_type": "stream",
     "text": [
      "\n",
      " 74%|███████▍  | 89/120 [01:54<00:34,  1.13s/it]\u001b[A"
     ]
    },
    {
     "name": "stdout",
     "output_type": "stream",
     "text": [
      "Log: 3D points for ouster64_bfc are corrected with T 26.0: global offset is -0.15\n",
      "Log: 3D points for ouster64_bfc are corrected with T 26.0: global offset is -0.15\n"
     ]
    },
    {
     "name": "stderr",
     "output_type": "stream",
     "text": [
      "\n",
      " 75%|███████▌  | 90/120 [01:56<00:34,  1.14s/it]\u001b[A\n",
      " 76%|███████▌  | 91/120 [01:57<00:31,  1.10s/it]\u001b[A"
     ]
    },
    {
     "name": "stdout",
     "output_type": "stream",
     "text": [
      "Log: 3D points for ouster64_bfc are corrected with T 26.0: global offset is -0.15\n"
     ]
    },
    {
     "name": "stderr",
     "output_type": "stream",
     "text": [
      "\n",
      " 77%|███████▋  | 92/120 [01:58<00:32,  1.15s/it]"
     ]
    },
    {
     "name": "stdout",
     "output_type": "stream",
     "text": [
      "Log: 3D points for ouster64_bfc are corrected with T 26.0: global offset is -0.15\n"
     ]
    },
    {
     "name": "stderr",
     "output_type": "stream",
     "text": [
      "\u001b[A"
     ]
    },
    {
     "name": "stdout",
     "output_type": "stream",
     "text": [
      "Log: 3D points for ouster64_bfc are corrected with T 26.06: global offset is -0.15\n"
     ]
    },
    {
     "name": "stderr",
     "output_type": "stream",
     "text": [
      "\n",
      " 78%|███████▊  | 93/120 [01:59<00:29,  1.10s/it]\u001b[A"
     ]
    },
    {
     "name": "stdout",
     "output_type": "stream",
     "text": [
      "Log: 3D points for ouster64_bfc are corrected with T 26.06: global offset is -0.15\n"
     ]
    },
    {
     "name": "stderr",
     "output_type": "stream",
     "text": [
      "\n",
      " 78%|███████▊  | 94/120 [02:01<00:34,  1.31s/it]\u001b[A"
     ]
    },
    {
     "name": "stdout",
     "output_type": "stream",
     "text": [
      "Log: 3D points for ouster64_bfc are corrected with T 26.06: global offset is -0.15\n"
     ]
    },
    {
     "name": "stderr",
     "output_type": "stream",
     "text": [
      "\n",
      " 79%|███████▉  | 95/120 [02:02<00:30,  1.22s/it]\u001b[A"
     ]
    },
    {
     "name": "stdout",
     "output_type": "stream",
     "text": [
      "Log: 3D points for ouster64_bfc are corrected with T 26.06: global offset is -0.15\n"
     ]
    },
    {
     "name": "stderr",
     "output_type": "stream",
     "text": [
      "\n",
      " 80%|████████  | 96/120 [02:05<00:45,  1.90s/it]\u001b[A"
     ]
    },
    {
     "name": "stdout",
     "output_type": "stream",
     "text": [
      "Log: 3D points for ouster64_bfc are corrected with T 26.06: global offset is -0.15\n"
     ]
    },
    {
     "name": "stderr",
     "output_type": "stream",
     "text": [
      "\n",
      " 81%|████████  | 97/120 [02:06<00:36,  1.58s/it]\u001b[A"
     ]
    },
    {
     "name": "stdout",
     "output_type": "stream",
     "text": [
      "Log: 3D points for ouster64_bfc are corrected with T 26.06: global offset is -0.15\n"
     ]
    },
    {
     "name": "stderr",
     "output_type": "stream",
     "text": [
      "\n",
      " 82%|████████▏ | 98/120 [02:07<00:31,  1.42s/it]\u001b[A"
     ]
    },
    {
     "name": "stdout",
     "output_type": "stream",
     "text": [
      "Log: 3D points for ouster64_bfc are corrected with T 26.12: global offset is -0.15\n"
     ]
    },
    {
     "name": "stderr",
     "output_type": "stream",
     "text": [
      "\n",
      " 82%|████████▎ | 99/120 [02:09<00:31,  1.49s/it]\u001b[A"
     ]
    },
    {
     "name": "stdout",
     "output_type": "stream",
     "text": [
      "Log: 3D points for ouster64_bfc are corrected with T 26.12: global offset is -0.15\n"
     ]
    },
    {
     "name": "stderr",
     "output_type": "stream",
     "text": [
      "\n",
      " 83%|████████▎ | 100/120 [02:10<00:27,  1.38s/it]\u001b[A"
     ]
    },
    {
     "name": "stdout",
     "output_type": "stream",
     "text": [
      "Log: 3D points for ouster64_bfc are corrected with T 26.12: global offset is -0.15\n"
     ]
    },
    {
     "name": "stderr",
     "output_type": "stream",
     "text": [
      "\n",
      " 84%|████████▍ | 101/120 [02:11<00:25,  1.34s/it]\u001b[A"
     ]
    },
    {
     "name": "stdout",
     "output_type": "stream",
     "text": [
      "Log: 3D points for ouster64_bfc are corrected with T 26.12: global offset is -0.15\n"
     ]
    },
    {
     "name": "stderr",
     "output_type": "stream",
     "text": [
      "\n",
      " 85%|████████▌ | 102/120 [02:13<00:26,  1.49s/it]\u001b[A"
     ]
    },
    {
     "name": "stdout",
     "output_type": "stream",
     "text": [
      "Log: 3D points for ouster64_bfc are corrected with T 26.12: global offset is -0.15\n"
     ]
    },
    {
     "name": "stderr",
     "output_type": "stream",
     "text": [
      "\n",
      " 86%|████████▌ | 103/120 [02:14<00:22,  1.32s/it]\u001b[A"
     ]
    },
    {
     "name": "stdout",
     "output_type": "stream",
     "text": [
      "Log: 3D points for ouster64_bfc are corrected with T 26.12: global offset is -0.15\n"
     ]
    },
    {
     "name": "stderr",
     "output_type": "stream",
     "text": [
      "\n",
      " 87%|████████▋ | 104/120 [02:15<00:20,  1.25s/it]\u001b[A"
     ]
    },
    {
     "name": "stdout",
     "output_type": "stream",
     "text": [
      "Log: 3D points for ouster64_bfc are corrected with T 26.12: global offset is -0.15\n"
     ]
    },
    {
     "name": "stderr",
     "output_type": "stream",
     "text": [
      "\n",
      " 88%|████████▊ | 105/120 [02:17<00:22,  1.49s/it]\u001b[A"
     ]
    },
    {
     "name": "stdout",
     "output_type": "stream",
     "text": [
      "Log: 3D points for ouster64_bfc are corrected with T 26.12: global offset is -0.15\n"
     ]
    },
    {
     "name": "stderr",
     "output_type": "stream",
     "text": [
      "\n",
      " 88%|████████▊ | 106/120 [02:19<00:22,  1.64s/it]\u001b[A"
     ]
    },
    {
     "name": "stdout",
     "output_type": "stream",
     "text": [
      "Log: 3D points for ouster64_bfc are corrected with T 26.12: global offset is -0.15\n"
     ]
    },
    {
     "name": "stderr",
     "output_type": "stream",
     "text": [
      "\n",
      " 89%|████████▉ | 107/120 [02:20<00:18,  1.39s/it]\u001b[A"
     ]
    },
    {
     "name": "stdout",
     "output_type": "stream",
     "text": [
      "Log: 3D points for ouster64_bfc are corrected with T 26.12: global offset is -0.15\n"
     ]
    },
    {
     "name": "stderr",
     "output_type": "stream",
     "text": [
      "\n",
      " 90%|█████████ | 108/120 [02:21<00:15,  1.28s/it]\u001b[A"
     ]
    },
    {
     "name": "stdout",
     "output_type": "stream",
     "text": [
      "Log: 3D points for ouster64_bfc are corrected with T 26.19: global offset is -0.15\n"
     ]
    },
    {
     "name": "stderr",
     "output_type": "stream",
     "text": [
      "\n",
      " 91%|█████████ | 109/120 [02:22<00:13,  1.19s/it]\u001b[A"
     ]
    },
    {
     "name": "stdout",
     "output_type": "stream",
     "text": [
      "Log: 3D points for ouster64_bfc are corrected with T 26.19: global offset is -0.15\n"
     ]
    },
    {
     "name": "stderr",
     "output_type": "stream",
     "text": [
      "\n",
      " 92%|█████████▏| 110/120 [02:24<00:14,  1.43s/it]\u001b[A"
     ]
    },
    {
     "name": "stdout",
     "output_type": "stream",
     "text": [
      "Log: 3D points for ouster64_bfc are corrected with T 26.19: global offset is -0.15\n"
     ]
    },
    {
     "name": "stderr",
     "output_type": "stream",
     "text": [
      "\n",
      " 92%|█████████▎| 111/120 [02:26<00:14,  1.62s/it]\u001b[A"
     ]
    },
    {
     "name": "stdout",
     "output_type": "stream",
     "text": [
      "Log: 3D points for ouster64_bfc are corrected with T 26.19: global offset is -0.15\n"
     ]
    },
    {
     "name": "stderr",
     "output_type": "stream",
     "text": [
      "\n",
      " 93%|█████████▎| 112/120 [02:28<00:13,  1.70s/it]\u001b[A"
     ]
    },
    {
     "name": "stdout",
     "output_type": "stream",
     "text": [
      "Log: 3D points for ouster64_bfc are corrected with T 26.19: global offset is -0.15\n"
     ]
    },
    {
     "name": "stderr",
     "output_type": "stream",
     "text": [
      "\n",
      " 94%|█████████▍| 113/120 [02:30<00:12,  1.84s/it]\u001b[A"
     ]
    },
    {
     "name": "stdout",
     "output_type": "stream",
     "text": [
      "Log: 3D points for ouster64_bfc are corrected with T 26.19: global offset is -0.15\n"
     ]
    },
    {
     "name": "stderr",
     "output_type": "stream",
     "text": [
      "\n",
      " 95%|█████████▌| 114/120 [02:31<00:09,  1.64s/it]\u001b[A\n",
      " 96%|█████████▌| 115/120 [02:32<00:07,  1.48s/it]\u001b[A"
     ]
    },
    {
     "name": "stdout",
     "output_type": "stream",
     "text": [
      "Log: 3D points for ouster64_bfc are corrected with T 26.19: global offset is -0.15\n",
      "Log: 3D points for ouster64_bfc are corrected with T 26.19: global offset is -0.15\n"
     ]
    },
    {
     "name": "stderr",
     "output_type": "stream",
     "text": [
      "\n",
      " 97%|█████████▋| 116/120 [02:34<00:06,  1.66s/it]\u001b[A"
     ]
    },
    {
     "name": "stdout",
     "output_type": "stream",
     "text": [
      "Log: 3D points for ouster64_bfc are corrected with T 26.19: global offset is -0.15\n"
     ]
    },
    {
     "name": "stderr",
     "output_type": "stream",
     "text": [
      "\n",
      " 98%|█████████▊| 117/120 [02:37<00:05,  1.90s/it]\u001b[A\n",
      " 98%|█████████▊| 118/120 [02:38<00:03,  1.75s/it]\u001b[A"
     ]
    },
    {
     "name": "stdout",
     "output_type": "stream",
     "text": [
      "Log: 3D points for ouster64_bfc are corrected with T 26.19: global offset is -0.15\n",
      "Log: 3D points for ouster64_bfc are corrected with T 26.19: global offset is -0.15\n"
     ]
    },
    {
     "name": "stderr",
     "output_type": "stream",
     "text": [
      "\n",
      " 99%|█████████▉| 119/120 [02:39<00:01,  1.49s/it]\u001b[A"
     ]
    },
    {
     "name": "stdout",
     "output_type": "stream",
     "text": [
      "Log: 3D points for ouster64_bfc are corrected with T 26.19: global offset is -0.15\n"
     ]
    },
    {
     "name": "stderr",
     "output_type": "stream",
     "text": [
      "\n",
      "100%|██████████| 120/120 [02:40<00:00,  1.34s/it]\u001b[A\n"
     ]
    }
   ],
   "source": [
    "#iterate over all frames:\n",
    "frames =  __frames_bfc[5]#[15:17]\n",
    "pf = pfs[5]\n",
    "SHOW_ = False\n",
    "for mu in tqdm(frames):\n",
    "    sample_flir = pf[destination][mu]\n",
    "    sample_lidar = pf[source].get_at_timestamp(sample_flir.timestamp,\n",
    "                                             interpolator=interpolators.nearest_interpolator)\n",
    "    \n",
    "    img = np.copy(sample_flir.raw)\n",
    "    X = sample_lidar.point_cloud()\n",
    "    A = sample_lidar.amplitudes\n",
    "    \n",
    "    ret_cam, corners_cam_uv_ = E.get_camera_corners(img, \n",
    "                                                    checkerboard, \n",
    "                                                    SHOW_)\n",
    "   \n",
    "    if ret_cam:\n",
    "        try:\n",
    "            corners_cam_uv_ = corners_cam_uv_[::-1,:,:]\n",
    "            ret_ous, corners_ous_, corners_cam_ = E.get_lidar_corners(X, A, prior_bfc, \n",
    "                                                            corners_cam_uv_, \n",
    "                                                            SHOW_, \n",
    "                                                            tolerance_eps=0.020, \n",
    "                                                            tolerance_nedges=7)\n",
    "            if ret_ous:\n",
    "                corners_cam_uv.append(corners_cam_uv_)\n",
    "                corners_cam.append(corners_cam_)\n",
    "                corners_ous.append(corners_ous_)\n",
    "                corners_mask.append(corners_mask_)\n",
    "        except:\n",
    "            pass"
   ]
  },
  {
   "cell_type": "code",
   "execution_count": null,
   "metadata": {},
   "outputs": [],
   "source": []
  },
  {
   "cell_type": "code",
   "execution_count": null,
   "metadata": {},
   "outputs": [],
   "source": [
    "#Once all frames have been selected, do the following:"
   ]
  },
  {
   "cell_type": "code",
   "execution_count": 24,
   "metadata": {},
   "outputs": [],
   "source": [
    "stack_corners_cam_uv = np.vstack(corners_cam_uv).squeeze(1)\n",
    "stack_corners_cam = np.vstack(corners_cam)\n",
    "stack_corners_ous = np.vstack(corners_ous)\n",
    "stack_corners_mask = np.hstack(corners_mask).astype(bool)"
   ]
  },
  {
   "cell_type": "code",
   "execution_count": 25,
   "metadata": {},
   "outputs": [
    {
     "data": {
      "text/plain": [
       "((1152, 2), (1152, 3), (1152, 3))"
      ]
     },
     "execution_count": 25,
     "metadata": {},
     "output_type": "execute_result"
    }
   ],
   "source": [
    "stack_corners_cam_uv.shape, stack_corners_cam.shape, stack_corners_ous.shape"
   ]
  },
  {
   "cell_type": "code",
   "execution_count": 26,
   "metadata": {},
   "outputs": [],
   "source": [
    "stack_corners_cam_uv = stack_corners_cam_uv[stack_corners_mask]\n",
    "stack_corners_ous = stack_corners_ous[stack_corners_mask]\n",
    "stack_corners_cam = stack_corners_cam[stack_corners_mask]"
   ]
  },
  {
   "cell_type": "code",
   "execution_count": 27,
   "metadata": {},
   "outputs": [],
   "source": [
    "#display the space of points\n",
    "fig = plt.figure()\n",
    "ax = fig.add_subplot(111, projection='3d')\n",
    "ax.scatter(stack_corners_cam[:,0], stack_corners_cam[:,1], stack_corners_cam[:,2], s=50, color='orange', marker='d', label='camera points')\n",
    "ax.scatter(stack_corners_ous[:,0], stack_corners_ous[:,1], stack_corners_ous[:,2], s=50,color='green' , marker='o', label='ouster points')\n",
    "plt.legend()\n",
    "plt.show()"
   ]
  },
  {
   "cell_type": "code",
   "execution_count": 28,
   "metadata": {},
   "outputs": [],
   "source": [
    "#using svd to obtain affine transformation from ouster to camera:\n",
    "Rot_,Trans_=E.euclidean_transform_3D(stack_corners_ous, stack_corners_cam)"
   ]
  },
  {
   "cell_type": "code",
   "execution_count": 29,
   "metadata": {},
   "outputs": [
    {
     "data": {
      "text/plain": [
       "(array([[-7.52183604e-04, -9.99985841e-01,  5.26798341e-03],\n",
       "        [ 1.58678639e-03, -5.26917181e-03, -9.99984859e-01],\n",
       "        [ 9.99998458e-01, -7.43813051e-04,  1.59072731e-03]]),\n",
       " array([ 0.0168517 , -0.10350207, -0.15225468]))"
      ]
     },
     "execution_count": 29,
     "metadata": {},
     "output_type": "execute_result"
    }
   ],
   "source": [
    "Rot_, Trans_"
   ]
  },
  {
   "cell_type": "code",
   "execution_count": 30,
   "metadata": {},
   "outputs": [
    {
     "data": {
      "text/plain": [
       "(True, 160)"
      ]
     },
     "execution_count": 30,
     "metadata": {},
     "output_type": "execute_result"
    }
   ],
   "source": [
    "#replace svd by pnp ransac\n",
    "f, r_, t_, a = cv2.solvePnPRansac(stack_corners_ous, stack_corners_cam_uv, mtx, dist, \n",
    "                                          iterationsCount=1500, reprojectionError=1.5)\n",
    "r_, _ = cv2.Rodrigues(r_)\n",
    "f,len(a)"
   ]
  },
  {
   "cell_type": "code",
   "execution_count": 31,
   "metadata": {},
   "outputs": [
    {
     "data": {
      "text/plain": [
       "(array([[ 1.43941155e-03, -9.99981705e-01,  5.87523992e-03],\n",
       "        [ 9.20798323e-06, -5.87523275e-03, -9.99982741e-01],\n",
       "        [ 9.99998964e-01,  1.43944080e-03,  7.50936889e-07]]),\n",
       " array([[ 0.00800188],\n",
       "        [-0.09493692],\n",
       "        [-0.12493336]]))"
      ]
     },
     "execution_count": 31,
     "metadata": {},
     "output_type": "execute_result"
    }
   ],
   "source": [
    "r_, t_"
   ]
  },
  {
   "cell_type": "code",
   "execution_count": 32,
   "metadata": {},
   "outputs": [],
   "source": [
    "# Transformation Matrix.\n",
    "M = np.eye(4)\n",
    "M[:3,:3] = r_\n",
    "M[:3,3:]= t_"
   ]
  },
  {
   "cell_type": "code",
   "execution_count": 33,
   "metadata": {},
   "outputs": [],
   "source": [
    "#Save result:\n",
    "pickle.dump(M, open(\"ouster64_bfc-flir_bfc.pkl\", \"wb\"))"
   ]
  },
  {
   "cell_type": "code",
   "execution_count": 34,
   "metadata": {},
   "outputs": [
    {
     "name": "stdout",
     "output_type": "stream",
     "text": [
      "translations :[ 0.00800188 -0.09493692 -0.12493336], norm:0.15711585627337732\n",
      "Ax Angle vector:[ 0.57902991 -0.57480989  0.57820234], angle (deg):120.14681971058945\n",
      "Euler Angle (deg):[ 89.97010957 -89.91752608   0.36651879]\n"
     ]
    }
   ],
   "source": [
    "DI.print_transf_result(M)"
   ]
  },
  {
   "cell_type": "code",
   "execution_count": null,
   "metadata": {},
   "outputs": [],
   "source": []
  },
  {
   "cell_type": "code",
   "execution_count": null,
   "metadata": {},
   "outputs": [],
   "source": []
  },
  {
   "cell_type": "code",
   "execution_count": 36,
   "metadata": {},
   "outputs": [],
   "source": [
    "#Evaluation of error:\n",
    "ous_to_cam = (Rot_.dot(stack_corners_ous.T) + Trans_[:,None]).T\n",
    "err_ = E.lj_error(ous_to_cam,stack_corners_cam)\n",
    "plt.figure()\n",
    "plt.hist(err_, bins=100)\n",
    "plt.show()"
   ]
  },
  {
   "cell_type": "code",
   "execution_count": null,
   "metadata": {},
   "outputs": [],
   "source": []
  },
  {
   "cell_type": "code",
   "execution_count": null,
   "metadata": {},
   "outputs": [],
   "source": []
  },
  {
   "cell_type": "code",
   "execution_count": null,
   "metadata": {},
   "outputs": [],
   "source": []
  },
  {
   "cell_type": "code",
   "execution_count": null,
   "metadata": {},
   "outputs": [],
   "source": []
  },
  {
   "cell_type": "code",
   "execution_count": null,
   "metadata": {},
   "outputs": [],
   "source": []
  },
  {
   "cell_type": "code",
   "execution_count": null,
   "metadata": {},
   "outputs": [],
   "source": []
  },
  {
   "cell_type": "code",
   "execution_count": null,
   "metadata": {},
   "outputs": [],
   "source": []
  },
  {
   "cell_type": "code",
   "execution_count": null,
   "metadata": {},
   "outputs": [],
   "source": []
  },
  {
   "cell_type": "code",
   "execution_count": null,
   "metadata": {},
   "outputs": [],
   "source": []
  },
  {
   "cell_type": "code",
   "execution_count": null,
   "metadata": {},
   "outputs": [],
   "source": []
  },
  {
   "cell_type": "code",
   "execution_count": null,
   "metadata": {},
   "outputs": [],
   "source": []
  }
 ],
 "metadata": {
  "kernelspec": {
   "display_name": "Python 3",
   "language": "python",
   "name": "python3"
  },
  "language_info": {
   "codemirror_mode": {
    "name": "ipython",
    "version": 3
   },
   "file_extension": ".py",
   "mimetype": "text/x-python",
   "name": "python",
   "nbconvert_exporter": "python",
   "pygments_lexer": "ipython3",
   "version": "3.6.9"
  }
 },
 "nbformat": 4,
 "nbformat_minor": 4
}
