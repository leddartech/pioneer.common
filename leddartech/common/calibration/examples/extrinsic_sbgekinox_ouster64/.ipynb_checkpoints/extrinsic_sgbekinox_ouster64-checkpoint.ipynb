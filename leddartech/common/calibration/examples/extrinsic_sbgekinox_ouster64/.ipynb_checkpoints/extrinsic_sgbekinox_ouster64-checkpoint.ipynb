{
 "cells": [
  {
   "cell_type": "code",
   "execution_count": 1,
   "metadata": {},
   "outputs": [],
   "source": [
    "#packages:\n",
    "import numpy as np\n",
    "import matplotlib.pyplot as plt\n",
    "import seaborn as sns\n",
    "sns.set()\n",
    "from mpl_toolkits.mplot3d import Axes3D\n",
    "from sklearn.linear_model import LinearRegression\n",
    "import pickle"
   ]
  },
  {
   "cell_type": "code",
   "execution_count": 2,
   "metadata": {},
   "outputs": [],
   "source": [
    "from transforms3d import quaternions"
   ]
  },
  {
   "cell_type": "code",
   "execution_count": 3,
   "metadata": {},
   "outputs": [
    {
     "name": "stdout",
     "output_type": "stream",
     "text": [
      "Using matplotlib backend: Qt5Agg\n"
     ]
    }
   ],
   "source": [
    "%matplotlib"
   ]
  },
  {
   "cell_type": "code",
   "execution_count": 4,
   "metadata": {},
   "outputs": [],
   "source": [
    "import torch"
   ]
  },
  {
   "cell_type": "code",
   "execution_count": 5,
   "metadata": {},
   "outputs": [
    {
     "name": "stderr",
     "output_type": "stream",
     "text": [
      "Setting up a new session...\n"
     ]
    }
   ],
   "source": [
    "import plane_calib_pytorch as pcp\n",
    "import convert_dataset as cdt\n",
    "import engine"
   ]
  },
  {
   "cell_type": "code",
   "execution_count": 6,
   "metadata": {},
   "outputs": [],
   "source": [
    "from leddar_utils import linalg"
   ]
  },
  {
   "cell_type": "code",
   "execution_count": 7,
   "metadata": {},
   "outputs": [],
   "source": [
    "import das.imu as DI"
   ]
  },
  {
   "cell_type": "code",
   "execution_count": null,
   "metadata": {},
   "outputs": [],
   "source": []
  },
  {
   "cell_type": "code",
   "execution_count": null,
   "metadata": {},
   "outputs": [],
   "source": []
  },
  {
   "cell_type": "code",
   "execution_count": null,
   "metadata": {},
   "outputs": [],
   "source": []
  },
  {
   "cell_type": "code",
   "execution_count": 7,
   "metadata": {},
   "outputs": [],
   "source": [
    "with open('/nas/pixset/exportedDataset/20200519_201946_rec_dataset_calib_imu_brick03_exported/extrinsics/sbgekinox_bcc-ouster64_bfc.pkl', 'rb') as k:\n",
    "    init_matrix = pickle.load(k)"
   ]
  },
  {
   "cell_type": "code",
   "execution_count": 8,
   "metadata": {},
   "outputs": [
    {
     "data": {
      "text/plain": [
       "array([[ 0.99965439, -0.01256657, -0.0230906 , -3.91731072],\n",
       "       [ 0.01240368,  0.99989726, -0.0071842 , -0.03624008],\n",
       "       [ 0.02317851,  0.00689531,  0.99970756, -0.31468444],\n",
       "       [ 0.        ,  0.        ,  0.        ,  1.        ]])"
      ]
     },
     "execution_count": 8,
     "metadata": {},
     "output_type": "execute_result"
    }
   ],
   "source": [
    "init_matrix"
   ]
  },
  {
   "cell_type": "code",
   "execution_count": 10,
   "metadata": {},
   "outputs": [
    {
     "name": "stdout",
     "output_type": "stream",
     "text": [
      "translations :[-3.91731072 -0.03624008 -0.31468444], norm:3.930097058768463\n",
      "Ax Angle vector:[ 0.25867401 -0.85007324  0.45876274], angle (deg):1.559484577813044\n",
      "Euler Angle (deg):[ 0.39518149 -1.32814976  0.7108878 ]\n"
     ]
    }
   ],
   "source": [
    "DI.print_transf_result(init_matrix)"
   ]
  },
  {
   "cell_type": "code",
   "execution_count": 12,
   "metadata": {},
   "outputs": [],
   "source": [
    "result_tr_1 = np.load('/home/olivier/workspace/das/das/calib/examples/extrinsic_sbgekinox_ouster64/ckps7b/results.npy', allow_pickle=True).item()"
   ]
  },
  {
   "cell_type": "code",
   "execution_count": 13,
   "metadata": {},
   "outputs": [
    {
     "data": {
      "text/plain": [
       "dict_keys(['loss', 'calib', 'bias'])"
      ]
     },
     "execution_count": 13,
     "metadata": {},
     "output_type": "execute_result"
    }
   ],
   "source": [
    "result_tr_1.keys()"
   ]
  },
  {
   "cell_type": "raw",
   "metadata": {},
   "source": []
  },
  {
   "cell_type": "code",
   "execution_count": 14,
   "metadata": {},
   "outputs": [
    {
     "data": {
      "text/plain": [
       "45"
      ]
     },
     "execution_count": 14,
     "metadata": {},
     "output_type": "execute_result"
    }
   ],
   "source": [
    "M_trs = result_tr_1['calib']\n",
    "len(M_trs)"
   ]
  },
  {
   "cell_type": "code",
   "execution_count": 15,
   "metadata": {},
   "outputs": [
    {
     "data": {
      "text/plain": [
       "array([[ 0.99958146,  0.00745099,  0.02795299,  3.8970003 ],\n",
       "       [-0.0075772 ,  0.99996156,  0.00441208, -0.01547982],\n",
       "       [-0.02791904, -0.00462204,  0.9995995 ,  0.21045506],\n",
       "       [ 0.        ,  0.        ,  0.        ,  1.        ]],\n",
       "      dtype=float32)"
      ]
     },
     "execution_count": 15,
     "metadata": {},
     "output_type": "execute_result"
    }
   ],
   "source": [
    "M_trs[-1]"
   ]
  },
  {
   "cell_type": "code",
   "execution_count": 59,
   "metadata": {},
   "outputs": [
    {
     "data": {
      "text/plain": [
       "array([[ 9.9958199e-01, -5.8814264e-03, -2.8304942e-02, -3.8763850e+00],\n",
       "       [ 5.7504629e-03,  9.9997240e-01, -4.7058542e-03, -2.4932658e-02],\n",
       "       [ 2.8331839e-02,  4.5411135e-03,  9.9958825e-01, -1.0400000e+01],\n",
       "       [ 0.0000000e+00,  0.0000000e+00,  0.0000000e+00,  1.0000000e+00]],\n",
       "      dtype=float32)"
      ]
     },
     "execution_count": 59,
     "metadata": {},
     "output_type": "execute_result"
    }
   ],
   "source": [
    "M = linalg.tf_inv(M_trs[60])\n",
    "#test:\n",
    "M[2,3]=-10.40\n",
    "M"
   ]
  },
  {
   "cell_type": "code",
   "execution_count": 53,
   "metadata": {},
   "outputs": [
    {
     "name": "stdout",
     "output_type": "stream",
     "text": [
      "translations :[-3.87638497 -0.02493266 -0.40184802], norm:3.897237987361658\n",
      "Ax Angle vector:[ 0.15792294 -0.96726267  0.19865363], angle (deg):1.6776773523226292\n",
      "Euler Angle (deg):[ 0.26029202 -1.62351202  0.3296114 ]\n"
     ]
    }
   ],
   "source": [
    "DI.print_transf_result(linalg.tf_inv(M_trs[60]))"
   ]
  },
  {
   "cell_type": "code",
   "execution_count": 60,
   "metadata": {},
   "outputs": [],
   "source": [
    "with open('sbgekinox_bcc-ouster64_bfc.pkl', 'wb') as k:\n",
    "    pickle.dump(M, k)"
   ]
  },
  {
   "cell_type": "code",
   "execution_count": null,
   "metadata": {},
   "outputs": [],
   "source": []
  },
  {
   "cell_type": "code",
   "execution_count": null,
   "metadata": {},
   "outputs": [],
   "source": []
  },
  {
   "cell_type": "code",
   "execution_count": null,
   "metadata": {},
   "outputs": [],
   "source": []
  },
  {
   "cell_type": "code",
   "execution_count": null,
   "metadata": {},
   "outputs": [],
   "source": []
  },
  {
   "cell_type": "code",
   "execution_count": null,
   "metadata": {},
   "outputs": [],
   "source": []
  },
  {
   "cell_type": "code",
   "execution_count": null,
   "metadata": {},
   "outputs": [],
   "source": []
  },
  {
   "cell_type": "code",
   "execution_count": 9,
   "metadata": {},
   "outputs": [],
   "source": [
    "plane_calib = pcp.PlaneCalib(init_matrix, init_bias = np.array([0.12]), use_bias=True)"
   ]
  },
  {
   "cell_type": "code",
   "execution_count": 10,
   "metadata": {},
   "outputs": [
    {
     "data": {
      "text/plain": [
       "tensor([[ 0.9997, -0.0126, -0.0231, -3.9173],\n",
       "        [ 0.0124,  0.9999, -0.0072, -0.0362],\n",
       "        [ 0.0232,  0.0069,  0.9997, -0.3147],\n",
       "        [ 0.0000,  0.0000,  0.0000,  1.0000]], grad_fn=<CopySlices>)"
      ]
     },
     "execution_count": 10,
     "metadata": {},
     "output_type": "execute_result"
    }
   ],
   "source": [
    "plane_calib.get_transformation_matrix()"
   ]
  },
  {
   "cell_type": "code",
   "execution_count": null,
   "metadata": {},
   "outputs": [],
   "source": []
  },
  {
   "cell_type": "code",
   "execution_count": null,
   "metadata": {},
   "outputs": [],
   "source": []
  },
  {
   "cell_type": "code",
   "execution_count": null,
   "metadata": {},
   "outputs": [],
   "source": []
  },
  {
   "cell_type": "code",
   "execution_count": 10,
   "metadata": {},
   "outputs": [
    {
     "name": "stdout",
     "output_type": "stream",
     "text": [
      "Parameter containing:\n",
      "tensor([ 0.0070, -0.0231,  0.0125], requires_grad=True)\n",
      "Parameter containing:\n",
      "tensor([-3.9173, -0.0362, -0.3147], requires_grad=True)\n",
      "Parameter containing:\n",
      "tensor([0.1200], requires_grad=True)\n"
     ]
    }
   ],
   "source": [
    "for params in plane_calib.parameters():\n",
    "    print(params)"
   ]
  },
  {
   "cell_type": "code",
   "execution_count": null,
   "metadata": {},
   "outputs": [],
   "source": []
  },
  {
   "cell_type": "code",
   "execution_count": 11,
   "metadata": {},
   "outputs": [],
   "source": [
    "#Validation--set a plane:\n",
    "xyz = np.array([\n",
    "    [-1.04194694, -1.17965867,  1.09517722],\n",
    "    [-0.39947906, -1.37104542,  1.36019265],\n",
    "    [-1.0634807 , -1.35020616,  0.46773962],\n",
    "    [-0.48640524, -1.64476106,  0.2726187 ],\n",
    "    [-0.05720509, -1.6791781 ,  0.76964551],\n",
    "    [-1.27522669, -1.10240358,  0.33761405],\n",
    "    [-0.61274031, -1.52709874, -0.09945502],\n",
    "    [-1.402693  , -0.86807757,  0.88866091],\n",
    "    [-0.72520241, -0.86800727,  1.69729388]])"
   ]
  },
  {
   "cell_type": "code",
   "execution_count": null,
   "metadata": {},
   "outputs": [],
   "source": [
    "#method valid:\n",
    "#P: ax+by+cz +d =0\n",
    "reg = LinearRegression()\n",
    "Y = xyz.copy()\n",
    "x_fit, y_fit = Y[:,1:], Y[:,0:1] #here I try to fit: x = w0 y + w1 z + w2\n",
    "reg.fit(x_fit,y_fit)\n",
    "P = (-1, reg.coef_[0][0], reg.coef_[0][1], reg.intercept_[0])"
   ]
  },
  {
   "cell_type": "code",
   "execution_count": null,
   "metadata": {},
   "outputs": [],
   "source": []
  },
  {
   "cell_type": "code",
   "execution_count": null,
   "metadata": {},
   "outputs": [],
   "source": [
    "n_hat = np.array([P[0], P[1], P[2]])\n",
    "n_hat /= np.linalg.norm(n_hat)\n",
    "n_hat"
   ]
  },
  {
   "cell_type": "code",
   "execution_count": null,
   "metadata": {},
   "outputs": [],
   "source": []
  },
  {
   "cell_type": "code",
   "execution_count": null,
   "metadata": {},
   "outputs": [],
   "source": [
    "n,d =plane_calib.fit_plane(torch.from_numpy(xyz).float())"
   ]
  },
  {
   "cell_type": "code",
   "execution_count": null,
   "metadata": {},
   "outputs": [],
   "source": [
    "dists = plane_calib.distance_points_to_plane(torch.from_numpy(xyz).float(),n,d)"
   ]
  },
  {
   "cell_type": "code",
   "execution_count": null,
   "metadata": {},
   "outputs": [],
   "source": [
    "dists"
   ]
  },
  {
   "cell_type": "code",
   "execution_count": null,
   "metadata": {},
   "outputs": [],
   "source": []
  },
  {
   "cell_type": "code",
   "execution_count": 17,
   "metadata": {},
   "outputs": [],
   "source": [
    "x = torch.from_numpy(xyz).float()"
   ]
  },
  {
   "cell_type": "code",
   "execution_count": 18,
   "metadata": {},
   "outputs": [],
   "source": [
    "x = torch.stack([x+0.5,x, x+0.9,x], dim=0)"
   ]
  },
  {
   "cell_type": "code",
   "execution_count": 19,
   "metadata": {},
   "outputs": [
    {
     "data": {
      "text/plain": [
       "torch.Size([4, 9, 3])"
      ]
     },
     "execution_count": 19,
     "metadata": {},
     "output_type": "execute_result"
    }
   ],
   "source": [
    "x.size()"
   ]
  },
  {
   "cell_type": "code",
   "execution_count": 10,
   "metadata": {},
   "outputs": [],
   "source": [
    "u,s,v = torch.svd(x)"
   ]
  },
  {
   "cell_type": "code",
   "execution_count": 11,
   "metadata": {},
   "outputs": [
    {
     "data": {
      "text/plain": [
       "torch.Size([2, 9, 3])"
      ]
     },
     "execution_count": 11,
     "metadata": {},
     "output_type": "execute_result"
    }
   ],
   "source": [
    "u.size()"
   ]
  },
  {
   "cell_type": "code",
   "execution_count": 12,
   "metadata": {},
   "outputs": [
    {
     "data": {
      "text/plain": [
       "tensor([[5.0764, 1.6666, 1.4023],\n",
       "        [5.0764, 1.6666, 1.4023]])"
      ]
     },
     "execution_count": 12,
     "metadata": {},
     "output_type": "execute_result"
    }
   ],
   "source": [
    "s"
   ]
  },
  {
   "cell_type": "code",
   "execution_count": 13,
   "metadata": {},
   "outputs": [
    {
     "data": {
      "text/plain": [
       "torch.Size([2, 3, 3])"
      ]
     },
     "execution_count": 13,
     "metadata": {},
     "output_type": "execute_result"
    }
   ],
   "source": [
    "v.size()"
   ]
  },
  {
   "cell_type": "code",
   "execution_count": 15,
   "metadata": {},
   "outputs": [],
   "source": [
    "n,d=plane_calib.fit_plane(x)"
   ]
  },
  {
   "cell_type": "code",
   "execution_count": 16,
   "metadata": {},
   "outputs": [
    {
     "data": {
      "text/plain": [
       "(torch.Size([2, 3]), tensor([[-0.4690, -0.8409,  0.2702],\n",
       "         [-0.4690, -0.8409,  0.2702]]))"
      ]
     },
     "execution_count": 16,
     "metadata": {},
     "output_type": "execute_result"
    }
   ],
   "source": [
    "n.size(), n"
   ]
  },
  {
   "cell_type": "code",
   "execution_count": 17,
   "metadata": {},
   "outputs": [
    {
     "data": {
      "text/plain": [
       "(torch.Size([2]), tensor([-1.6548, -1.6548]))"
      ]
     },
     "execution_count": 17,
     "metadata": {},
     "output_type": "execute_result"
    }
   ],
   "source": [
    "d.size(), d"
   ]
  },
  {
   "cell_type": "code",
   "execution_count": 18,
   "metadata": {},
   "outputs": [
    {
     "data": {
      "text/plain": [
       "torch.Size([2, 9, 3])"
      ]
     },
     "execution_count": 18,
     "metadata": {},
     "output_type": "execute_result"
    }
   ],
   "source": [
    "r = torch.randn(3,3)\n",
    "x.size()"
   ]
  },
  {
   "cell_type": "code",
   "execution_count": 30,
   "metadata": {},
   "outputs": [],
   "source": [
    "c =torch.matmul(r, x.transpose(1,2))"
   ]
  },
  {
   "cell_type": "code",
   "execution_count": 31,
   "metadata": {},
   "outputs": [
    {
     "data": {
      "text/plain": [
       "torch.Size([2, 3, 9])"
      ]
     },
     "execution_count": 31,
     "metadata": {},
     "output_type": "execute_result"
    }
   ],
   "source": [
    "c.size()"
   ]
  },
  {
   "cell_type": "code",
   "execution_count": 37,
   "metadata": {},
   "outputs": [
    {
     "data": {
      "text/plain": [
       "tensor([[[-0.9040, -1.1916,  1.0402],\n",
       "         [ 2.0101, -0.1697,  0.3011],\n",
       "         [-0.8189,  1.0308, -0.3259]],\n",
       "\n",
       "        [[-0.9040, -1.1916,  1.0402],\n",
       "         [ 2.0101, -0.1697,  0.3011],\n",
       "         [-0.8189,  1.0308, -0.3259]]])"
      ]
     },
     "execution_count": 37,
     "metadata": {},
     "output_type": "execute_result"
    }
   ],
   "source": [
    "r.squeeze(0).expand(2,-1,-1)"
   ]
  },
  {
   "cell_type": "code",
   "execution_count": 32,
   "metadata": {},
   "outputs": [],
   "source": [
    "d = torch.bmm(r.squeeze(0).expand(2,-1,-1), x.transpose(1,2))"
   ]
  },
  {
   "cell_type": "code",
   "execution_count": 33,
   "metadata": {},
   "outputs": [
    {
     "data": {
      "text/plain": [
       "torch.Size([2, 3, 9])"
      ]
     },
     "execution_count": 33,
     "metadata": {},
     "output_type": "execute_result"
    }
   ],
   "source": [
    "d.size()"
   ]
  },
  {
   "cell_type": "code",
   "execution_count": 34,
   "metadata": {},
   "outputs": [
    {
     "data": {
      "text/plain": [
       "tensor([[[ True, False,  True,  True,  True,  True, False,  True, False],\n",
       "         [ True,  True,  True, False,  True,  True,  True,  True,  True],\n",
       "         [ True,  True, False,  True,  True,  True,  True, False,  True]],\n",
       "\n",
       "        [[False, False,  True,  True,  True,  True,  True,  True,  True],\n",
       "         [ True, False,  True,  True,  True,  True,  True,  True,  True],\n",
       "         [ True,  True,  True,  True,  True,  True,  True, False,  True]]])"
      ]
     },
     "execution_count": 34,
     "metadata": {},
     "output_type": "execute_result"
    }
   ],
   "source": [
    "c == d"
   ]
  },
  {
   "cell_type": "code",
   "execution_count": 38,
   "metadata": {},
   "outputs": [
    {
     "data": {
      "text/plain": [
       "tensor([[[ 0.0000e+00,  2.3842e-07,  0.0000e+00,  0.0000e+00,  0.0000e+00,\n",
       "           0.0000e+00, -1.1921e-07,  0.0000e+00, -2.3842e-07],\n",
       "         [ 0.0000e+00,  0.0000e+00,  0.0000e+00,  2.9802e-08,  0.0000e+00,\n",
       "           0.0000e+00,  0.0000e+00,  0.0000e+00,  0.0000e+00],\n",
       "         [ 0.0000e+00,  0.0000e+00, -5.9605e-08,  0.0000e+00,  0.0000e+00,\n",
       "           0.0000e+00,  0.0000e+00, -7.4506e-09,  0.0000e+00]],\n",
       "\n",
       "        [[ 2.3842e-07,  2.3842e-07,  0.0000e+00,  0.0000e+00,  0.0000e+00,\n",
       "           0.0000e+00,  0.0000e+00,  0.0000e+00,  0.0000e+00],\n",
       "         [ 0.0000e+00, -1.4901e-08,  0.0000e+00,  0.0000e+00,  0.0000e+00,\n",
       "           0.0000e+00,  0.0000e+00,  0.0000e+00,  0.0000e+00],\n",
       "         [ 0.0000e+00,  0.0000e+00,  0.0000e+00,  0.0000e+00,  0.0000e+00,\n",
       "           0.0000e+00,  0.0000e+00, -7.4506e-09,  0.0000e+00]]])"
      ]
     },
     "execution_count": 38,
     "metadata": {},
     "output_type": "execute_result"
    }
   ],
   "source": [
    "c-d"
   ]
  },
  {
   "cell_type": "code",
   "execution_count": null,
   "metadata": {},
   "outputs": [],
   "source": []
  },
  {
   "cell_type": "code",
   "execution_count": 20,
   "metadata": {},
   "outputs": [],
   "source": [
    "l = plane_calib(x)"
   ]
  },
  {
   "cell_type": "code",
   "execution_count": 21,
   "metadata": {},
   "outputs": [
    {
     "data": {
      "text/plain": [
       "torch.Size([4, 9])"
      ]
     },
     "execution_count": 21,
     "metadata": {},
     "output_type": "execute_result"
    }
   ],
   "source": [
    "l.size()"
   ]
  },
  {
   "cell_type": "code",
   "execution_count": 24,
   "metadata": {},
   "outputs": [
    {
     "data": {
      "text/plain": [
       "tensor([0.1280, 0.0559, 0.1117, 0.0320, 0.0089, 0.0396, 0.1165, 0.0299, 0.1327],\n",
       "       grad_fn=<SelectBackward>)"
      ]
     },
     "execution_count": 24,
     "metadata": {},
     "output_type": "execute_result"
    }
   ],
   "source": [
    "l[1]"
   ]
  },
  {
   "cell_type": "code",
   "execution_count": 25,
   "metadata": {},
   "outputs": [
    {
     "data": {
      "text/plain": [
       "tensor([0.1280, 0.0559, 0.1117, 0.0320, 0.0089, 0.0396, 0.1165, 0.0299, 0.1327],\n",
       "       grad_fn=<SelectBackward>)"
      ]
     },
     "execution_count": 25,
     "metadata": {},
     "output_type": "execute_result"
    }
   ],
   "source": [
    "l[3]"
   ]
  },
  {
   "cell_type": "code",
   "execution_count": 26,
   "metadata": {},
   "outputs": [
    {
     "data": {
      "text/plain": [
       "tensor([0.1263, 0.0571, 0.1132, 0.0313, 0.0133, 0.0398, 0.1114, 0.0353, 0.1282],\n",
       "       grad_fn=<SelectBackward>)"
      ]
     },
     "execution_count": 26,
     "metadata": {},
     "output_type": "execute_result"
    }
   ],
   "source": [
    "l[0]"
   ]
  },
  {
   "cell_type": "code",
   "execution_count": 13,
   "metadata": {},
   "outputs": [],
   "source": [
    "optimizer = torch.optim.SGD(plane_calib.parameters(), lr=.1, momentum=0.9)"
   ]
  },
  {
   "cell_type": "code",
   "execution_count": null,
   "metadata": {},
   "outputs": [],
   "source": []
  },
  {
   "cell_type": "code",
   "execution_count": null,
   "metadata": {},
   "outputs": [],
   "source": []
  },
  {
   "cell_type": "code",
   "execution_count": null,
   "metadata": {},
   "outputs": [],
   "source": []
  },
  {
   "cell_type": "code",
   "execution_count": null,
   "metadata": {},
   "outputs": [],
   "source": []
  },
  {
   "cell_type": "code",
   "execution_count": null,
   "metadata": {},
   "outputs": [],
   "source": []
  },
  {
   "cell_type": "code",
   "execution_count": null,
   "metadata": {},
   "outputs": [],
   "source": []
  },
  {
   "cell_type": "code",
   "execution_count": 14,
   "metadata": {},
   "outputs": [
    {
     "name": "stderr",
     "output_type": "stream",
     "text": [
      "/pytorch/torch/csrc/utils/python_arg_parser.cpp:698: UserWarning: This overload of add_ is deprecated:\n",
      "\tadd_(Number alpha, Tensor other)\n",
      "Consider using one of the following signatures instead:\n",
      "\tadd_(Tensor other, Number alpha)\n"
     ]
    },
    {
     "name": "stdout",
     "output_type": "stream",
     "text": [
      "tensor(0.0728, grad_fn=<MeanBackward0>)\n",
      "tensor(0.0727, grad_fn=<MeanBackward0>)\n",
      "tensor(0.0725, grad_fn=<MeanBackward0>)\n",
      "tensor(0.0722, grad_fn=<MeanBackward0>)\n",
      "tensor(0.0719, grad_fn=<MeanBackward0>)\n",
      "tensor(0.0714, grad_fn=<MeanBackward0>)\n",
      "tensor(0.0709, grad_fn=<MeanBackward0>)\n",
      "tensor(0.0704, grad_fn=<MeanBackward0>)\n",
      "tensor(0.0698, grad_fn=<MeanBackward0>)\n",
      "tensor(0.0692, grad_fn=<MeanBackward0>)\n",
      "tensor(0.0685, grad_fn=<MeanBackward0>)\n",
      "tensor(0.0678, grad_fn=<MeanBackward0>)\n",
      "tensor(0.0670, grad_fn=<MeanBackward0>)\n",
      "tensor(0.0662, grad_fn=<MeanBackward0>)\n",
      "tensor(0.0654, grad_fn=<MeanBackward0>)\n",
      "tensor(0.0646, grad_fn=<MeanBackward0>)\n",
      "tensor(0.0637, grad_fn=<MeanBackward0>)\n",
      "tensor(0.0629, grad_fn=<MeanBackward0>)\n",
      "tensor(0.0620, grad_fn=<MeanBackward0>)\n",
      "tensor(0.0611, grad_fn=<MeanBackward0>)\n",
      "tensor(0.0602, grad_fn=<MeanBackward0>)\n",
      "tensor(0.0592, grad_fn=<MeanBackward0>)\n",
      "tensor(0.0583, grad_fn=<MeanBackward0>)\n",
      "tensor(0.0573, grad_fn=<MeanBackward0>)\n",
      "tensor(0.0564, grad_fn=<MeanBackward0>)\n",
      "tensor(0.0554, grad_fn=<MeanBackward0>)\n",
      "tensor(0.0545, grad_fn=<MeanBackward0>)\n",
      "tensor(0.0535, grad_fn=<MeanBackward0>)\n",
      "tensor(0.0525, grad_fn=<MeanBackward0>)\n",
      "tensor(0.0515, grad_fn=<MeanBackward0>)\n",
      "tensor(0.0505, grad_fn=<MeanBackward0>)\n",
      "tensor(0.0495, grad_fn=<MeanBackward0>)\n",
      "tensor(0.0486, grad_fn=<MeanBackward0>)\n",
      "tensor(0.0476, grad_fn=<MeanBackward0>)\n",
      "tensor(0.0466, grad_fn=<MeanBackward0>)\n",
      "tensor(0.0456, grad_fn=<MeanBackward0>)\n",
      "tensor(0.0446, grad_fn=<MeanBackward0>)\n",
      "tensor(0.0436, grad_fn=<MeanBackward0>)\n",
      "tensor(0.0427, grad_fn=<MeanBackward0>)\n",
      "tensor(0.0418, grad_fn=<MeanBackward0>)\n",
      "tensor(0.0410, grad_fn=<MeanBackward0>)\n",
      "tensor(0.0402, grad_fn=<MeanBackward0>)\n",
      "tensor(0.0393, grad_fn=<MeanBackward0>)\n",
      "tensor(0.0385, grad_fn=<MeanBackward0>)\n",
      "tensor(0.0378, grad_fn=<MeanBackward0>)\n",
      "tensor(0.0372, grad_fn=<MeanBackward0>)\n",
      "tensor(0.0367, grad_fn=<MeanBackward0>)\n",
      "tensor(0.0362, grad_fn=<MeanBackward0>)\n",
      "tensor(0.0357, grad_fn=<MeanBackward0>)\n",
      "tensor(0.0353, grad_fn=<MeanBackward0>)\n",
      "tensor(0.0349, grad_fn=<MeanBackward0>)\n",
      "tensor(0.0345, grad_fn=<MeanBackward0>)\n",
      "tensor(0.0341, grad_fn=<MeanBackward0>)\n",
      "tensor(0.0337, grad_fn=<MeanBackward0>)\n",
      "tensor(0.0334, grad_fn=<MeanBackward0>)\n",
      "tensor(0.0331, grad_fn=<MeanBackward0>)\n",
      "tensor(0.0328, grad_fn=<MeanBackward0>)\n",
      "tensor(0.0325, grad_fn=<MeanBackward0>)\n",
      "tensor(0.0323, grad_fn=<MeanBackward0>)\n",
      "tensor(0.0320, grad_fn=<MeanBackward0>)\n",
      "tensor(0.0318, grad_fn=<MeanBackward0>)\n",
      "tensor(0.0316, grad_fn=<MeanBackward0>)\n",
      "tensor(0.0314, grad_fn=<MeanBackward0>)\n",
      "tensor(0.0312, grad_fn=<MeanBackward0>)\n",
      "tensor(0.0311, grad_fn=<MeanBackward0>)\n",
      "tensor(0.0309, grad_fn=<MeanBackward0>)\n",
      "tensor(0.0307, grad_fn=<MeanBackward0>)\n",
      "tensor(0.0306, grad_fn=<MeanBackward0>)\n",
      "tensor(0.0305, grad_fn=<MeanBackward0>)\n",
      "tensor(0.0303, grad_fn=<MeanBackward0>)\n",
      "tensor(0.0302, grad_fn=<MeanBackward0>)\n",
      "tensor(0.0301, grad_fn=<MeanBackward0>)\n",
      "tensor(0.0300, grad_fn=<MeanBackward0>)\n",
      "tensor(0.0299, grad_fn=<MeanBackward0>)\n",
      "tensor(0.0298, grad_fn=<MeanBackward0>)\n",
      "tensor(0.0296, grad_fn=<MeanBackward0>)\n",
      "tensor(0.0295, grad_fn=<MeanBackward0>)\n",
      "tensor(0.0294, grad_fn=<MeanBackward0>)\n",
      "tensor(0.0293, grad_fn=<MeanBackward0>)\n",
      "tensor(0.0291, grad_fn=<MeanBackward0>)\n",
      "tensor(0.0289, grad_fn=<MeanBackward0>)\n",
      "tensor(0.0287, grad_fn=<MeanBackward0>)\n",
      "tensor(0.0283, grad_fn=<MeanBackward0>)\n",
      "tensor(0.0280, grad_fn=<MeanBackward0>)\n",
      "tensor(0.0281, grad_fn=<MeanBackward0>)\n",
      "tensor(0.0279, grad_fn=<MeanBackward0>)\n",
      "tensor(0.0283, grad_fn=<MeanBackward0>)\n",
      "tensor(0.0279, grad_fn=<MeanBackward0>)\n",
      "tensor(0.0223, grad_fn=<MeanBackward0>)\n",
      "tensor(0.0178, grad_fn=<MeanBackward0>)\n",
      "tensor(0.0149, grad_fn=<MeanBackward0>)\n",
      "tensor(0.0170, grad_fn=<MeanBackward0>)\n",
      "tensor(0.0194, grad_fn=<MeanBackward0>)\n",
      "tensor(0.0213, grad_fn=<MeanBackward0>)\n",
      "tensor(0.0219, grad_fn=<MeanBackward0>)\n",
      "tensor(0.0217, grad_fn=<MeanBackward0>)\n",
      "tensor(0.0206, grad_fn=<MeanBackward0>)\n",
      "tensor(0.0184, grad_fn=<MeanBackward0>)\n",
      "tensor(0.0167, grad_fn=<MeanBackward0>)\n",
      "tensor(0.0148, grad_fn=<MeanBackward0>)\n",
      "tensor(0.0162, grad_fn=<MeanBackward0>)\n",
      "tensor(0.0173, grad_fn=<MeanBackward0>)\n",
      "tensor(0.0176, grad_fn=<MeanBackward0>)\n",
      "tensor(0.0174, grad_fn=<MeanBackward0>)\n",
      "tensor(0.0167, grad_fn=<MeanBackward0>)\n",
      "tensor(0.0156, grad_fn=<MeanBackward0>)\n",
      "tensor(0.0150, grad_fn=<MeanBackward0>)\n",
      "tensor(0.0158, grad_fn=<MeanBackward0>)\n",
      "tensor(0.0161, grad_fn=<MeanBackward0>)\n",
      "tensor(0.0160, grad_fn=<MeanBackward0>)\n",
      "tensor(0.0155, grad_fn=<MeanBackward0>)\n",
      "tensor(0.0147, grad_fn=<MeanBackward0>)\n",
      "tensor(0.0151, grad_fn=<MeanBackward0>)\n",
      "tensor(0.0151, grad_fn=<MeanBackward0>)\n",
      "tensor(0.0148, grad_fn=<MeanBackward0>)\n",
      "tensor(0.0153, grad_fn=<MeanBackward0>)\n",
      "tensor(0.0154, grad_fn=<MeanBackward0>)\n",
      "tensor(0.0152, grad_fn=<MeanBackward0>)\n",
      "tensor(0.0148, grad_fn=<MeanBackward0>)\n",
      "tensor(0.0150, grad_fn=<MeanBackward0>)\n",
      "tensor(0.0150, grad_fn=<MeanBackward0>)\n",
      "tensor(0.0148, grad_fn=<MeanBackward0>)\n",
      "tensor(0.0152, grad_fn=<MeanBackward0>)\n",
      "tensor(0.0153, grad_fn=<MeanBackward0>)\n",
      "tensor(0.0150, grad_fn=<MeanBackward0>)\n",
      "tensor(0.0150, grad_fn=<MeanBackward0>)\n",
      "tensor(0.0153, grad_fn=<MeanBackward0>)\n",
      "tensor(0.0152, grad_fn=<MeanBackward0>)\n",
      "tensor(0.0148, grad_fn=<MeanBackward0>)\n",
      "tensor(0.0153, grad_fn=<MeanBackward0>)\n",
      "tensor(0.0156, grad_fn=<MeanBackward0>)\n",
      "tensor(0.0154, grad_fn=<MeanBackward0>)\n",
      "tensor(0.0149, grad_fn=<MeanBackward0>)\n",
      "tensor(0.0153, grad_fn=<MeanBackward0>)\n",
      "tensor(0.0157, grad_fn=<MeanBackward0>)\n",
      "tensor(0.0157, grad_fn=<MeanBackward0>)\n",
      "tensor(0.0153, grad_fn=<MeanBackward0>)\n",
      "tensor(0.0148, grad_fn=<MeanBackward0>)\n",
      "tensor(0.0151, grad_fn=<MeanBackward0>)\n",
      "tensor(0.0150, grad_fn=<MeanBackward0>)\n",
      "tensor(0.0149, grad_fn=<MeanBackward0>)\n",
      "tensor(0.0150, grad_fn=<MeanBackward0>)\n",
      "tensor(0.0149, grad_fn=<MeanBackward0>)\n",
      "tensor(0.0148, grad_fn=<MeanBackward0>)\n",
      "tensor(0.0147, grad_fn=<MeanBackward0>)\n",
      "tensor(0.0149, grad_fn=<MeanBackward0>)\n",
      "tensor(0.0147, grad_fn=<MeanBackward0>)\n",
      "tensor(0.0148, grad_fn=<MeanBackward0>)\n",
      "tensor(0.0149, grad_fn=<MeanBackward0>)\n",
      "tensor(0.0149, grad_fn=<MeanBackward0>)\n",
      "tensor(0.0148, grad_fn=<MeanBackward0>)\n",
      "tensor(0.0148, grad_fn=<MeanBackward0>)\n",
      "tensor(0.0148, grad_fn=<MeanBackward0>)\n",
      "tensor(0.0149, grad_fn=<MeanBackward0>)\n",
      "tensor(0.0148, grad_fn=<MeanBackward0>)\n",
      "tensor(0.0148, grad_fn=<MeanBackward0>)\n",
      "tensor(0.0147, grad_fn=<MeanBackward0>)\n",
      "tensor(0.0151, grad_fn=<MeanBackward0>)\n",
      "tensor(0.0151, grad_fn=<MeanBackward0>)\n",
      "tensor(0.0148, grad_fn=<MeanBackward0>)\n",
      "tensor(0.0152, grad_fn=<MeanBackward0>)\n",
      "tensor(0.0154, grad_fn=<MeanBackward0>)\n",
      "tensor(0.0151, grad_fn=<MeanBackward0>)\n",
      "tensor(0.0149, grad_fn=<MeanBackward0>)\n",
      "tensor(0.0151, grad_fn=<MeanBackward0>)\n",
      "tensor(0.0149, grad_fn=<MeanBackward0>)\n",
      "tensor(0.0148, grad_fn=<MeanBackward0>)\n",
      "tensor(0.0148, grad_fn=<MeanBackward0>)\n",
      "tensor(0.0149, grad_fn=<MeanBackward0>)\n",
      "tensor(0.0150, grad_fn=<MeanBackward0>)\n",
      "tensor(0.0149, grad_fn=<MeanBackward0>)\n",
      "tensor(0.0149, grad_fn=<MeanBackward0>)\n",
      "tensor(0.0149, grad_fn=<MeanBackward0>)\n",
      "tensor(0.0148, grad_fn=<MeanBackward0>)\n",
      "tensor(0.0149, grad_fn=<MeanBackward0>)\n",
      "tensor(0.0148, grad_fn=<MeanBackward0>)\n",
      "tensor(0.0151, grad_fn=<MeanBackward0>)\n",
      "tensor(0.0151, grad_fn=<MeanBackward0>)\n",
      "tensor(0.0147, grad_fn=<MeanBackward0>)\n",
      "tensor(0.0153, grad_fn=<MeanBackward0>)\n",
      "tensor(0.0156, grad_fn=<MeanBackward0>)\n",
      "tensor(0.0154, grad_fn=<MeanBackward0>)\n",
      "tensor(0.0149, grad_fn=<MeanBackward0>)\n",
      "tensor(0.0152, grad_fn=<MeanBackward0>)\n",
      "tensor(0.0155, grad_fn=<MeanBackward0>)\n",
      "tensor(0.0153, grad_fn=<MeanBackward0>)\n",
      "tensor(0.0148, grad_fn=<MeanBackward0>)\n",
      "tensor(0.0154, grad_fn=<MeanBackward0>)\n",
      "tensor(0.0158, grad_fn=<MeanBackward0>)\n",
      "tensor(0.0157, grad_fn=<MeanBackward0>)\n",
      "tensor(0.0153, grad_fn=<MeanBackward0>)\n",
      "tensor(0.0148, grad_fn=<MeanBackward0>)\n",
      "tensor(0.0151, grad_fn=<MeanBackward0>)\n",
      "tensor(0.0149, grad_fn=<MeanBackward0>)\n",
      "tensor(0.0149, grad_fn=<MeanBackward0>)\n",
      "tensor(0.0151, grad_fn=<MeanBackward0>)\n",
      "tensor(0.0149, grad_fn=<MeanBackward0>)\n",
      "tensor(0.0150, grad_fn=<MeanBackward0>)\n",
      "tensor(0.0150, grad_fn=<MeanBackward0>)\n",
      "tensor(0.0147, grad_fn=<MeanBackward0>)\n",
      "tensor(0.0148, grad_fn=<MeanBackward0>)\n",
      "tensor(0.0149, grad_fn=<MeanBackward0>)\n",
      "tensor(0.0147, grad_fn=<MeanBackward0>)\n",
      "tensor(0.0148, grad_fn=<MeanBackward0>)\n",
      "tensor(0.0148, grad_fn=<MeanBackward0>)\n",
      "tensor(0.0148, grad_fn=<MeanBackward0>)\n",
      "tensor(0.0148, grad_fn=<MeanBackward0>)\n",
      "tensor(0.0147, grad_fn=<MeanBackward0>)\n",
      "tensor(0.0149, grad_fn=<MeanBackward0>)\n",
      "tensor(0.0148, grad_fn=<MeanBackward0>)\n",
      "tensor(0.0148, grad_fn=<MeanBackward0>)\n",
      "tensor(0.0150, grad_fn=<MeanBackward0>)\n",
      "tensor(0.0149, grad_fn=<MeanBackward0>)\n",
      "tensor(0.0149, grad_fn=<MeanBackward0>)\n",
      "tensor(0.0151, grad_fn=<MeanBackward0>)\n",
      "tensor(0.0149, grad_fn=<MeanBackward0>)\n",
      "tensor(0.0150, grad_fn=<MeanBackward0>)\n",
      "tensor(0.0151, grad_fn=<MeanBackward0>)\n",
      "tensor(0.0147, grad_fn=<MeanBackward0>)\n",
      "tensor(0.0153, grad_fn=<MeanBackward0>)\n",
      "tensor(0.0155, grad_fn=<MeanBackward0>)\n",
      "tensor(0.0153, grad_fn=<MeanBackward0>)\n",
      "tensor(0.0148, grad_fn=<MeanBackward0>)\n",
      "tensor(0.0154, grad_fn=<MeanBackward0>)\n",
      "tensor(0.0157, grad_fn=<MeanBackward0>)\n",
      "tensor(0.0156, grad_fn=<MeanBackward0>)\n",
      "tensor(0.0151, grad_fn=<MeanBackward0>)\n",
      "tensor(0.0150, grad_fn=<MeanBackward0>)\n",
      "tensor(0.0155, grad_fn=<MeanBackward0>)\n",
      "tensor(0.0156, grad_fn=<MeanBackward0>)\n",
      "tensor(0.0152, grad_fn=<MeanBackward0>)\n",
      "tensor(0.0148, grad_fn=<MeanBackward0>)\n",
      "tensor(0.0151, grad_fn=<MeanBackward0>)\n",
      "tensor(0.0149, grad_fn=<MeanBackward0>)\n",
      "tensor(0.0150, grad_fn=<MeanBackward0>)\n",
      "tensor(0.0152, grad_fn=<MeanBackward0>)\n",
      "tensor(0.0150, grad_fn=<MeanBackward0>)\n",
      "tensor(0.0148, grad_fn=<MeanBackward0>)\n",
      "tensor(0.0148, grad_fn=<MeanBackward0>)\n",
      "tensor(0.0149, grad_fn=<MeanBackward0>)\n",
      "tensor(0.0149, grad_fn=<MeanBackward0>)\n",
      "tensor(0.0148, grad_fn=<MeanBackward0>)\n",
      "tensor(0.0151, grad_fn=<MeanBackward0>)\n",
      "tensor(0.0151, grad_fn=<MeanBackward0>)\n",
      "tensor(0.0148, grad_fn=<MeanBackward0>)\n",
      "tensor(0.0153, grad_fn=<MeanBackward0>)\n",
      "tensor(0.0155, grad_fn=<MeanBackward0>)\n",
      "tensor(0.0154, grad_fn=<MeanBackward0>)\n",
      "tensor(0.0149, grad_fn=<MeanBackward0>)\n"
     ]
    },
    {
     "name": "stdout",
     "output_type": "stream",
     "text": [
      "tensor(0.0153, grad_fn=<MeanBackward0>)\n"
     ]
    }
   ],
   "source": [
    "N_ITERATIONS = 250\n",
    "for i in range(N_ITERATIONS):\n",
    "    optimizer.zero_grad()\n",
    "    l = plane_calib(x)\n",
    "    l.backward()\n",
    "    optimizer.step()\n",
    "    print(l)\n",
    "    "
   ]
  },
  {
   "cell_type": "code",
   "execution_count": 15,
   "metadata": {},
   "outputs": [
    {
     "data": {
      "text/plain": [
       "tensor([[ 0.9997, -0.0126, -0.0231, -3.9173],\n",
       "        [ 0.0124,  0.9999, -0.0072, -0.0362],\n",
       "        [ 0.0232,  0.0069,  0.9997, -0.3147],\n",
       "        [ 0.0000,  0.0000,  0.0000,  1.0000]], grad_fn=<CopySlices>)"
      ]
     },
     "execution_count": 15,
     "metadata": {},
     "output_type": "execute_result"
    }
   ],
   "source": [
    "plane_calib.get_transformation_matrix()"
   ]
  },
  {
   "cell_type": "code",
   "execution_count": 16,
   "metadata": {},
   "outputs": [
    {
     "data": {
      "text/plain": [
       "array([[-1.93157809e-08, -2.83296050e-06,  1.11668693e-06,\n",
       "        -1.69490466e-09],\n",
       "       [ 2.79036223e-06, -3.85046187e-08, -2.56533012e-06,\n",
       "         7.10964845e-07],\n",
       "       [-1.06912883e-06,  2.53017400e-06,  4.29067488e-08,\n",
       "         7.00548530e-09],\n",
       "       [ 0.00000000e+00,  0.00000000e+00,  0.00000000e+00,\n",
       "         0.00000000e+00]])"
      ]
     },
     "execution_count": 16,
     "metadata": {},
     "output_type": "execute_result"
    }
   ],
   "source": [
    "plane_calib.init_matrix-plane_calib.get_transformation_matrix().detach().numpy()"
   ]
  },
  {
   "cell_type": "code",
   "execution_count": 17,
   "metadata": {},
   "outputs": [
    {
     "data": {
      "text/plain": [
       "Parameter containing:\n",
       "tensor([-1.8441], requires_grad=True)"
      ]
     },
     "execution_count": 17,
     "metadata": {},
     "output_type": "execute_result"
    }
   ],
   "source": [
    "plane_calib.bias"
   ]
  },
  {
   "cell_type": "code",
   "execution_count": 18,
   "metadata": {},
   "outputs": [
    {
     "data": {
      "text/plain": [
       "array([0.12])"
      ]
     },
     "execution_count": 18,
     "metadata": {},
     "output_type": "execute_result"
    }
   ],
   "source": [
    "plane_calib.init_bias"
   ]
  },
  {
   "cell_type": "code",
   "execution_count": 20,
   "metadata": {},
   "outputs": [
    {
     "data": {
      "text/plain": [
       "array([1., 0., 0., 0.])"
      ]
     },
     "execution_count": 20,
     "metadata": {},
     "output_type": "execute_result"
    }
   ],
   "source": [
    "quaternions.mat2quat(np.eye(3))"
   ]
  },
  {
   "cell_type": "code",
   "execution_count": null,
   "metadata": {},
   "outputs": [],
   "source": []
  },
  {
   "cell_type": "code",
   "execution_count": null,
   "metadata": {},
   "outputs": [],
   "source": []
  },
  {
   "cell_type": "code",
   "execution_count": null,
   "metadata": {},
   "outputs": [],
   "source": []
  },
  {
   "cell_type": "code",
   "execution_count": null,
   "metadata": {},
   "outputs": [],
   "source": []
  },
  {
   "cell_type": "code",
   "execution_count": null,
   "metadata": {},
   "outputs": [],
   "source": [
    "#using the dataset prepared by Pierre\n",
    "# (testing)\n",
    "#"
   ]
  },
  {
   "cell_type": "code",
   "execution_count": 11,
   "metadata": {},
   "outputs": [
    {
     "name": "stderr",
     "output_type": "stream",
     "text": [
      " 22%|██▏       | 2/9 [00:00<00:01,  4.85it/s]"
     ]
    },
    {
     "name": "stdout",
     "output_type": "stream",
     "text": [
      "Pixell Log: the cache is set to use calibration angles.\n",
      "Pixell Log: time base delays are converted to lcas referential.\n"
     ]
    },
    {
     "name": "stderr",
     "output_type": "stream",
     "text": [
      "100%|██████████| 9/9 [00:01<00:00,  6.90it/s]\n",
      "/home/olivier/workspace/das/das/calib/examples/extrinsic_sbgekinox_ouster64/convert_dataset.py:198: YAMLLoadWarning: calling yaml.load() without Loader=... is deprecated, as the default Loader is unsafe. Please read https://msg.pyyaml.org/load for full details.\n",
      "  self.scene = yaml.load(f)\n"
     ]
    },
    {
     "name": "stdout",
     "output_type": "stream",
     "text": [
      "nb frame nav:11693\n",
      "nb frame euler:11693\n",
      "position offset: [3.20495141e+05 5.18384259e+06 1.73132630e+01]\n",
      "nb frame ouster64_bfc:2342\n"
     ]
    }
   ],
   "source": [
    "dataset = '/nas/pixset/exportedDataset/20200519_201503_rec_dataset_calib_imu_brick02_exported'\n",
    "plane_cfg = 'planes_ouster_20200519_201503.yml'\n",
    "\n",
    "\n",
    "exportation_dataset = cdt.DatasetExportation(dataset, plane_cfg, 'ouster64_bfc')\n",
    "exportation_dataset.load_from_pickle_file()"
   ]
  },
  {
   "cell_type": "code",
   "execution_count": 12,
   "metadata": {},
   "outputs": [
    {
     "data": {
      "text/plain": [
       "9"
      ]
     },
     "execution_count": 12,
     "metadata": {},
     "output_type": "execute_result"
    }
   ],
   "source": [
    "len(exportation_dataset)"
   ]
  },
  {
   "cell_type": "code",
   "execution_count": 30,
   "metadata": {},
   "outputs": [],
   "source": [
    "init_matrix_inv = linalg.tf_inv(init_matrix)"
   ]
  },
  {
   "cell_type": "code",
   "execution_count": 45,
   "metadata": {},
   "outputs": [
    {
     "data": {
      "text/plain": [
       "((3, 9000), (9000, 4, 4))"
      ]
     },
     "execution_count": 45,
     "metadata": {},
     "output_type": "execute_result"
    }
   ],
   "source": [
    "pts, tr = exportation_dataset.get_points(2, init_matrix)\n",
    "pts.shape, tr.shape"
   ]
  },
  {
   "cell_type": "code",
   "execution_count": null,
   "metadata": {},
   "outputs": [],
   "source": []
  },
  {
   "cell_type": "code",
   "execution_count": 46,
   "metadata": {},
   "outputs": [
    {
     "data": {
      "text/plain": [
       "(4, 9000)"
      ]
     },
     "execution_count": 46,
     "metadata": {},
     "output_type": "execute_result"
    }
   ],
   "source": [
    "pts_hom = np.vstack((pts, np.ones(pts.shape[1])))\n",
    "pts_hom.shape"
   ]
  },
  {
   "cell_type": "code",
   "execution_count": 47,
   "metadata": {},
   "outputs": [],
   "source": [
    "pts_world = np.zeros_like(pts_hom)\n",
    "for i in range(pts.shape[1]):\n",
    "    pts_world[:,i:i+1] = tr[i]@init_matrix@pts_hom[:,i:i+1]"
   ]
  },
  {
   "cell_type": "code",
   "execution_count": 48,
   "metadata": {},
   "outputs": [],
   "source": [
    "fig = plt.figure()\n",
    "ax = fig.add_subplot(111, projection='3d')\n",
    "ax.scatter(pts_world[0], pts_world[1], pts_world[2])\n",
    "plt.show()"
   ]
  },
  {
   "cell_type": "code",
   "execution_count": null,
   "metadata": {},
   "outputs": [],
   "source": []
  },
  {
   "cell_type": "code",
   "execution_count": null,
   "metadata": {},
   "outputs": [],
   "source": []
  },
  {
   "cell_type": "code",
   "execution_count": null,
   "metadata": {},
   "outputs": [],
   "source": []
  },
  {
   "cell_type": "code",
   "execution_count": null,
   "metadata": {},
   "outputs": [],
   "source": []
  },
  {
   "cell_type": "code",
   "execution_count": 11,
   "metadata": {},
   "outputs": [
    {
     "name": "stderr",
     "output_type": "stream",
     "text": [
      " 22%|██▏       | 2/9 [00:00<00:01,  4.57it/s]"
     ]
    },
    {
     "name": "stdout",
     "output_type": "stream",
     "text": [
      "Pixell Log: the cache is set to use calibration angles.\n",
      "Pixell Log: time base delays are converted to lcas referential.\n"
     ]
    },
    {
     "name": "stderr",
     "output_type": "stream",
     "text": [
      "100%|██████████| 9/9 [00:01<00:00,  6.57it/s]\n",
      "/home/olivier/workspace/das/das/calib/examples/extrinsic_sbgekinox_ouster64/convert_dataset.py:199: YAMLLoadWarning: calling yaml.load() without Loader=... is deprecated, as the default Loader is unsafe. Please read https://msg.pyyaml.org/load for full details.\n",
      "  self.scene = yaml.load(f)\n"
     ]
    },
    {
     "name": "stdout",
     "output_type": "stream",
     "text": [
      "nb frame nav:11693\n",
      "nb frame euler:11693\n",
      "position offset: [3.20495141e+05 5.18384259e+06 1.73132630e+01]\n",
      "nb frame ouster64_bfc:2342\n"
     ]
    }
   ],
   "source": [
    "plane_calib_dataset = cdt.PlaneCalibDataset(calibration_matrix=init_matrix)"
   ]
  },
  {
   "cell_type": "code",
   "execution_count": 12,
   "metadata": {},
   "outputs": [
    {
     "data": {
      "text/plain": [
       "9"
      ]
     },
     "execution_count": 12,
     "metadata": {},
     "output_type": "execute_result"
    }
   ],
   "source": [
    "len(plane_calib_dataset)"
   ]
  },
  {
   "cell_type": "code",
   "execution_count": 13,
   "metadata": {},
   "outputs": [
    {
     "data": {
      "text/plain": [
       "array([[ 0.99965439, -0.01256657, -0.0230906 , -3.91731072],\n",
       "       [ 0.01240368,  0.99989726, -0.0071842 , -0.03624008],\n",
       "       [ 0.02317851,  0.00689531,  0.99970756, -0.31468444],\n",
       "       [ 0.        ,  0.        ,  0.        ,  1.        ]])"
      ]
     },
     "execution_count": 13,
     "metadata": {},
     "output_type": "execute_result"
    }
   ],
   "source": [
    "plane_calib_dataset.calibration_matrix"
   ]
  },
  {
   "cell_type": "code",
   "execution_count": 14,
   "metadata": {},
   "outputs": [],
   "source": [
    "dataloader = cdt.PlaneCalibDataloader(plane_calib_dataset, \n",
    "                                      num_max_points=500, \n",
    "                                      batch_size=3, \n",
    "                                      device=torch.device('cuda'), \n",
    "                                      shuffle=True)"
   ]
  },
  {
   "cell_type": "code",
   "execution_count": 15,
   "metadata": {},
   "outputs": [
    {
     "data": {
      "text/plain": [
       "PlaneCalib()"
      ]
     },
     "execution_count": 15,
     "metadata": {},
     "output_type": "execute_result"
    }
   ],
   "source": [
    "plane_calib.to(torch.device('cuda'))"
   ]
  },
  {
   "cell_type": "code",
   "execution_count": 16,
   "metadata": {},
   "outputs": [
    {
     "name": "stdout",
     "output_type": "stream",
     "text": [
      "torch.Size([9, 500, 3]) torch.Size([9, 500, 4, 4])\n"
     ]
    }
   ],
   "source": [
    "for pts,tr in dataloader:\n",
    "    print(pts.size(), tr.size())\n",
    "    l = plane_calib(pts, tr)"
   ]
  },
  {
   "cell_type": "code",
   "execution_count": 17,
   "metadata": {},
   "outputs": [
    {
     "data": {
      "text/plain": [
       "tensor(1.9051, device='cuda:0', grad_fn=<SumBackward0>)"
      ]
     },
     "execution_count": 17,
     "metadata": {},
     "output_type": "execute_result"
    }
   ],
   "source": [
    "l"
   ]
  },
  {
   "cell_type": "code",
   "execution_count": 18,
   "metadata": {},
   "outputs": [
    {
     "data": {
      "text/plain": [
       "torch.Size([9, 500])"
      ]
     },
     "execution_count": 18,
     "metadata": {},
     "output_type": "execute_result"
    }
   ],
   "source": [
    "l.size()"
   ]
  },
  {
   "cell_type": "code",
   "execution_count": null,
   "metadata": {},
   "outputs": [],
   "source": []
  },
  {
   "cell_type": "code",
   "execution_count": null,
   "metadata": {},
   "outputs": [],
   "source": []
  },
  {
   "cell_type": "code",
   "execution_count": null,
   "metadata": {},
   "outputs": [],
   "source": []
  },
  {
   "cell_type": "code",
   "execution_count": null,
   "metadata": {},
   "outputs": [],
   "source": []
  },
  {
   "cell_type": "code",
   "execution_count": null,
   "metadata": {},
   "outputs": [],
   "source": []
  },
  {
   "cell_type": "code",
   "execution_count": null,
   "metadata": {},
   "outputs": [],
   "source": []
  },
  {
   "cell_type": "code",
   "execution_count": null,
   "metadata": {},
   "outputs": [],
   "source": []
  },
  {
   "cell_type": "code",
   "execution_count": null,
   "metadata": {},
   "outputs": [],
   "source": []
  },
  {
   "cell_type": "code",
   "execution_count": 7,
   "metadata": {},
   "outputs": [],
   "source": [
    "with open('/nas/pixset/exportedDataset/20200519_203346_rec_dataset_brick_to_watt_exported/extrinsics/sbgekinox_bcc-ouster64_bfc.pkl', 'rb') as k:\n",
    "    calib_matrix = pickle.load(k)"
   ]
  },
  {
   "cell_type": "code",
   "execution_count": 8,
   "metadata": {},
   "outputs": [],
   "source": [
    "class ArgsConfig:\n",
    "    #dataset:\n",
    "    dataset = '/nas/pixset/exportedDataset/20200519_201503_rec_dataset_calib_imu_brick02_exported'\n",
    "    planes_cfg='planes_ouster_20200519_201503.yml'\n",
    "    sensor='ouster64_bfc'\n",
    "    exported_package='exported_dataset.pkl'\n",
    "    \n",
    "    #loader:\n",
    "    num_max_points=500\n",
    "    batch_size=9\n",
    "    device='cuda'\n",
    "    shuffle=True\n",
    "    \n",
    "    #model:\n",
    "    init_matrix = calib_matrix\n",
    "    init_bias = np.array([0.02])\n",
    "    use_bias = True\n",
    "    \n",
    "    \n",
    "    lr=1e-4\n",
    "    weight_decay=1e-4\n",
    "    \n",
    "    num_epochs=50\n",
    "    \n",
    "    \n",
    "    "
   ]
  },
  {
   "cell_type": "code",
   "execution_count": null,
   "metadata": {},
   "outputs": [
    {
     "name": "stderr",
     "output_type": "stream",
     "text": [
      " 22%|██▏       | 2/9 [00:00<00:01,  4.91it/s]"
     ]
    },
    {
     "name": "stdout",
     "output_type": "stream",
     "text": [
      "Pixell Log: the cache is set to use calibration angles.\n",
      "Pixell Log: time base delays are converted to lcas referential.\n"
     ]
    },
    {
     "name": "stderr",
     "output_type": "stream",
     "text": [
      "100%|██████████| 9/9 [00:01<00:00,  6.61it/s]\n",
      "/home/olivier/workspace/das/das/calib/examples/extrinsic_sbgekinox_ouster64/convert_dataset.py:199: YAMLLoadWarning: calling yaml.load() without Loader=... is deprecated, as the default Loader is unsafe. Please read https://msg.pyyaml.org/load for full details.\n",
      "  self.scene = yaml.load(f)\n"
     ]
    },
    {
     "name": "stdout",
     "output_type": "stream",
     "text": [
      "nb frame nav:11693\n",
      "nb frame euler:11693\n",
      "position offset: [3.20495141e+05 5.18384259e+06 1.73132630e+01]\n",
      "nb frame ouster64_bfc:2342\n",
      "Start training\n"
     ]
    }
   ],
   "source": [
    "args = ArgsConfig()\n",
    "package = engine.main(args)"
   ]
  },
  {
   "cell_type": "code",
   "execution_count": null,
   "metadata": {},
   "outputs": [],
   "source": []
  },
  {
   "cell_type": "code",
   "execution_count": null,
   "metadata": {},
   "outputs": [],
   "source": []
  },
  {
   "cell_type": "code",
   "execution_count": null,
   "metadata": {},
   "outputs": [],
   "source": []
  },
  {
   "cell_type": "code",
   "execution_count": null,
   "metadata": {},
   "outputs": [],
   "source": []
  },
  {
   "cell_type": "code",
   "execution_count": null,
   "metadata": {},
   "outputs": [],
   "source": []
  },
  {
   "cell_type": "code",
   "execution_count": null,
   "metadata": {},
   "outputs": [],
   "source": []
  },
  {
   "cell_type": "code",
   "execution_count": null,
   "metadata": {},
   "outputs": [],
   "source": []
  },
  {
   "cell_type": "code",
   "execution_count": null,
   "metadata": {},
   "outputs": [],
   "source": []
  },
  {
   "cell_type": "code",
   "execution_count": null,
   "metadata": {},
   "outputs": [],
   "source": []
  },
  {
   "cell_type": "code",
   "execution_count": null,
   "metadata": {},
   "outputs": [],
   "source": []
  },
  {
   "cell_type": "code",
   "execution_count": null,
   "metadata": {},
   "outputs": [],
   "source": []
  },
  {
   "cell_type": "code",
   "execution_count": null,
   "metadata": {},
   "outputs": [],
   "source": []
  },
  {
   "cell_type": "code",
   "execution_count": null,
   "metadata": {},
   "outputs": [],
   "source": []
  },
  {
   "cell_type": "code",
   "execution_count": null,
   "metadata": {},
   "outputs": [],
   "source": []
  },
  {
   "cell_type": "code",
   "execution_count": null,
   "metadata": {},
   "outputs": [],
   "source": []
  },
  {
   "cell_type": "code",
   "execution_count": 8,
   "metadata": {},
   "outputs": [],
   "source": [
    "#validation via cloud=compare pour un dataset\n",
    "from das.api import platform\n",
    "import tqdm"
   ]
  },
  {
   "cell_type": "code",
   "execution_count": 18,
   "metadata": {},
   "outputs": [
    {
     "name": "stderr",
     "output_type": "stream",
     "text": [
      " 10%|█         | 1/10 [00:03<00:34,  3.79s/it]"
     ]
    },
    {
     "name": "stdout",
     "output_type": "stream",
     "text": [
      "Pixell Log: the cache is set to use calibration angles.\n",
      "Pixell Log: time base delays are converted to lcas referential.\n"
     ]
    },
    {
     "name": "stderr",
     "output_type": "stream",
     "text": [
      "100%|██████████| 10/10 [01:11<00:00,  7.14s/it]\n"
     ]
    }
   ],
   "source": [
    "#\n",
    "val_ds = '/nas/pixset/exportedDataset/20200608_175725_rec_dataset_calib_imu_fast_brick04_exported'\n",
    "pf_val = platform.Platform(val_ds)\n",
    "#pts = []\n",
    "#for mu in tqdm.tqdm(pf_val['ouster64_bfc_xyzit'][20:500]):\n",
    "#    pts.append(mu.point_cloud(referential='world', ignore_orientation=False, undistort=True, reference_ts=-1, dtype=np.float64))\n",
    "#pts = np.vstack(pts)\n",
    "#print(pts.shape)\n",
    "\n",
    "#np.savetxt(\"val_pts.xyz\", pts, fmt='%.3f')"
   ]
  },
  {
   "cell_type": "code",
   "execution_count": 16,
   "metadata": {},
   "outputs": [
    {
     "ename": "NameError",
     "evalue": "name 'pf_val' is not defined",
     "output_type": "error",
     "traceback": [
      "\u001b[0;31m---------------------------------------------------------------------------\u001b[0m",
      "\u001b[0;31mNameError\u001b[0m                                 Traceback (most recent call last)",
      "\u001b[0;32m<ipython-input-16-21567947ee20>\u001b[0m in \u001b[0;36m<module>\u001b[0;34m()\u001b[0m\n\u001b[0;32m----> 1\u001b[0;31m \u001b[0mpf_val\u001b[0m\u001b[0;34m\u001b[0m\u001b[0;34m\u001b[0m\u001b[0m\n\u001b[0m",
      "\u001b[0;31mNameError\u001b[0m: name 'pf_val' is not defined"
     ]
    }
   ],
   "source": [
    "pf_val"
   ]
  },
  {
   "cell_type": "code",
   "execution_count": 38,
   "metadata": {},
   "outputs": [],
   "source": [
    "z = pf_val['pixell_bfc']['ech'][10].raw['data']"
   ]
  },
  {
   "cell_type": "code",
   "execution_count": 39,
   "metadata": {},
   "outputs": [
    {
     "data": {
      "text/plain": [
       "2304"
      ]
     },
     "execution_count": 39,
     "metadata": {},
     "output_type": "execute_result"
    }
   ],
   "source": [
    "len(z)"
   ]
  },
  {
   "cell_type": "code",
   "execution_count": 40,
   "metadata": {},
   "outputs": [],
   "source": [
    "x=pf_val['pixell_bfc']['ech'][10].point_cloud()"
   ]
  },
  {
   "cell_type": "code",
   "execution_count": 41,
   "metadata": {},
   "outputs": [
    {
     "data": {
      "text/plain": [
       "502"
      ]
     },
     "execution_count": 41,
     "metadata": {},
     "output_type": "execute_result"
    }
   ],
   "source": [
    "len(x)"
   ]
  },
  {
   "cell_type": "code",
   "execution_count": 42,
   "metadata": {},
   "outputs": [
    {
     "data": {
      "text/plain": [
       "array([ True, False, False, ...,  True, False, False])"
      ]
     },
     "execution_count": 42,
     "metadata": {},
     "output_type": "execute_result"
    }
   ],
   "source": [
    "pf_val['pixell_bfc']['ech'][10]._mask"
   ]
  },
  {
   "cell_type": "code",
   "execution_count": null,
   "metadata": {},
   "outputs": [],
   "source": []
  },
  {
   "cell_type": "code",
   "execution_count": 37,
   "metadata": {},
   "outputs": [
    {
     "data": {
      "text/plain": [
       "array([1591639048372928, 1591639048374334, 1591639048372928,\n",
       "       1591639048374334, 1591639048372928, 1591639048374334,\n",
       "       1591639048372928, 1591639048374334, 1591639048372928,\n",
       "       1591639048374334, 1591639048372928, 1591639048374334,\n",
       "       1591639048372928, 1591639048374334, 1591639048372928,\n",
       "       1591639048374334, 1591639048372928, 1591639048374334,\n",
       "       1591639048372928, 1591639048374334, 1591639048372928,\n",
       "       1591639048374334, 1591639048372928, 1591639048374334,\n",
       "       1591639048374334, 1591639048372928, 1591639048372928,\n",
       "       1591639048374334, 1591639048355669, 1591639048357168,\n",
       "       1591639048355669, 1591639048357168, 1591639048355669,\n",
       "       1591639048357168, 1591639048355669, 1591639048357168,\n",
       "       1591639048355669, 1591639048357168, 1591639048355669,\n",
       "       1591639048357168, 1591639048355669, 1591639048357168,\n",
       "       1591639048355669, 1591639048357168, 1591639048355669,\n",
       "       1591639048357168, 1591639048355669, 1591639048357168,\n",
       "       1591639048355669, 1591639048357168, 1591639048357168,\n",
       "       1591639048355669, 1591639048357168, 1591639048361506,\n",
       "       1591639048362906, 1591639048361506, 1591639048362906,\n",
       "       1591639048361506, 1591639048362906, 1591639048361506,\n",
       "       1591639048362906, 1591639048361506, 1591639048362906,\n",
       "       1591639048361506, 1591639048362906, 1591639048361506,\n",
       "       1591639048362906, 1591639048361506, 1591639048362906,\n",
       "       1591639048361506, 1591639048362906, 1591639048361506,\n",
       "       1591639048362906, 1591639048361506, 1591639048361506,\n",
       "       1591639048362906, 1591639048361506, 1591639048362906,\n",
       "       1591639048367204, 1591639048367204, 1591639048368621,\n",
       "       1591639048367204, 1591639048368621, 1591639048368621,\n",
       "       1591639048367204, 1591639048368621, 1591639048367204,\n",
       "       1591639048367204, 1591639048368621, 1591639048367204,\n",
       "       1591639048368621, 1591639048368621, 1591639048367204,\n",
       "       1591639048368621, 1591639048367204, 1591639048368621,\n",
       "       1591639048352747, 1591639048352747, 1591639048354185,\n",
       "       1591639048352747, 1591639048354185, 1591639048354185,\n",
       "       1591639048352747, 1591639048352747, 1591639048354185,\n",
       "       1591639048352747, 1591639048354185, 1591639048354185,\n",
       "       1591639048352747, 1591639048352747, 1591639048352747,\n",
       "       1591639048354185, 1591639048358638, 1591639048360078,\n",
       "       1591639048364342, 1591639048365746, 1591639048364342,\n",
       "       1591639048365746, 1591639048364342, 1591639048365746,\n",
       "       1591639048364342, 1591639048365746, 1591639048364342,\n",
       "       1591639048365746, 1591639048364342, 1591639048365746,\n",
       "       1591639048364342, 1591639048365746, 1591639048364342,\n",
       "       1591639048365746, 1591639048364342, 1591639048365746,\n",
       "       1591639048364342, 1591639048365746, 1591639048364342,\n",
       "       1591639048365746, 1591639048364342, 1591639048365746,\n",
       "       1591639048364342, 1591639048365746, 1591639048364342,\n",
       "       1591639048365746, 1591639048364342, 1591639048365746,\n",
       "       1591639048364342, 1591639048365746, 1591639048370050,\n",
       "       1591639048371510, 1591639048370050, 1591639048371510,\n",
       "       1591639048370050, 1591639048371510, 1591639048370050,\n",
       "       1591639048371510, 1591639048370050, 1591639048371510,\n",
       "       1591639048370050, 1591639048371510, 1591639048370050,\n",
       "       1591639048371510, 1591639048370050, 1591639048371510,\n",
       "       1591639048370050, 1591639048371510, 1591639048370050,\n",
       "       1591639048371510, 1591639048370050, 1591639048371510,\n",
       "       1591639048370050, 1591639048371510, 1591639048370050,\n",
       "       1591639048371510, 1591639048370050, 1591639048371510,\n",
       "       1591639048370050, 1591639048371510, 1591639048370050,\n",
       "       1591639048371510, 1591639048372930, 1591639048374336,\n",
       "       1591639048372930, 1591639048374336, 1591639048372930,\n",
       "       1591639048374336, 1591639048372930, 1591639048374336,\n",
       "       1591639048372930, 1591639048374336, 1591639048372930,\n",
       "       1591639048355671, 1591639048357171, 1591639048355671,\n",
       "       1591639048355671, 1591639048357171, 1591639048355671,\n",
       "       1591639048357171, 1591639048355671, 1591639048357171,\n",
       "       1591639048355671, 1591639048361509, 1591639048362908,\n",
       "       1591639048361509, 1591639048361509, 1591639048362908,\n",
       "       1591639048361509, 1591639048362908, 1591639048361509,\n",
       "       1591639048362908, 1591639048361509, 1591639048367207,\n",
       "       1591639048368623, 1591639048367207, 1591639048367207,\n",
       "       1591639048368623, 1591639048367207, 1591639048368623,\n",
       "       1591639048367207, 1591639048368623, 1591639048367207,\n",
       "       1591639048368623, 1591639048367207, 1591639048368623,\n",
       "       1591639048367207, 1591639048368623, 1591639048352749,\n",
       "       1591639048354188, 1591639048352749, 1591639048352749,\n",
       "       1591639048354188, 1591639048352749, 1591639048354188,\n",
       "       1591639048352749, 1591639048354188, 1591639048352749,\n",
       "       1591639048354188, 1591639048352749, 1591639048354188,\n",
       "       1591639048352749, 1591639048354188, 1591639048352749,\n",
       "       1591639048354188, 1591639048352749, 1591639048354188,\n",
       "       1591639048352749, 1591639048354188, 1591639048358640,\n",
       "       1591639048360079, 1591639048358640, 1591639048360079,\n",
       "       1591639048358640, 1591639048360079, 1591639048358640,\n",
       "       1591639048360079, 1591639048358640, 1591639048360079,\n",
       "       1591639048358640, 1591639048360079, 1591639048358640,\n",
       "       1591639048360079, 1591639048358640, 1591639048360079,\n",
       "       1591639048358640, 1591639048360079, 1591639048358640,\n",
       "       1591639048360079, 1591639048358640, 1591639048360079,\n",
       "       1591639048358640, 1591639048360079, 1591639048358640,\n",
       "       1591639048360079, 1591639048358640, 1591639048360079,\n",
       "       1591639048358640, 1591639048360079, 1591639048358640,\n",
       "       1591639048360079, 1591639048364344, 1591639048365748,\n",
       "       1591639048364344, 1591639048365748, 1591639048364344,\n",
       "       1591639048365748, 1591639048364344, 1591639048365748,\n",
       "       1591639048364344, 1591639048365748, 1591639048364344,\n",
       "       1591639048365748, 1591639048364344, 1591639048365748,\n",
       "       1591639048364344, 1591639048365748, 1591639048364344,\n",
       "       1591639048365748, 1591639048364344, 1591639048365748,\n",
       "       1591639048364344, 1591639048365748, 1591639048364344,\n",
       "       1591639048365748, 1591639048364344, 1591639048365748,\n",
       "       1591639048364344, 1591639048365748, 1591639048364344,\n",
       "       1591639048365748, 1591639048364344, 1591639048365748,\n",
       "       1591639048370052, 1591639048371512, 1591639048370052,\n",
       "       1591639048371512, 1591639048370052, 1591639048371512,\n",
       "       1591639048370052, 1591639048371512, 1591639048370052,\n",
       "       1591639048371512, 1591639048370052, 1591639048371512,\n",
       "       1591639048370052, 1591639048371512, 1591639048370052,\n",
       "       1591639048371512, 1591639048370052, 1591639048371512,\n",
       "       1591639048370052, 1591639048371512, 1591639048370052,\n",
       "       1591639048371512, 1591639048370052, 1591639048371512,\n",
       "       1591639048370052, 1591639048371512, 1591639048370052,\n",
       "       1591639048371512, 1591639048370052, 1591639048371512,\n",
       "       1591639048370052, 1591639048371512, 1591639048357165,\n",
       "       1591639048367202, 1591639048368619, 1591639048367202,\n",
       "       1591639048368619, 1591639048367202, 1591639048368619,\n",
       "       1591639048367202, 1591639048368619, 1591639048367202,\n",
       "       1591639048368619, 1591639048367202, 1591639048368619,\n",
       "       1591639048367202, 1591639048368619, 1591639048367202,\n",
       "       1591639048368619, 1591639048367202, 1591639048368619,\n",
       "       1591639048367202, 1591639048368619, 1591639048367202,\n",
       "       1591639048368619, 1591639048367202, 1591639048368619,\n",
       "       1591639048367202, 1591639048368619, 1591639048367202,\n",
       "       1591639048368619, 1591639048367202, 1591639048368619,\n",
       "       1591639048367202, 1591639048368619, 1591639048352728,\n",
       "       1591639048354182, 1591639048352728, 1591639048354182,\n",
       "       1591639048352728, 1591639048354182, 1591639048352728,\n",
       "       1591639048354182, 1591639048352728, 1591639048354182,\n",
       "       1591639048352728, 1591639048354182, 1591639048352728,\n",
       "       1591639048354182, 1591639048352728, 1591639048354182,\n",
       "       1591639048352728, 1591639048354182, 1591639048352728,\n",
       "       1591639048354182, 1591639048352728, 1591639048354182,\n",
       "       1591639048352728, 1591639048354182, 1591639048352728,\n",
       "       1591639048354182, 1591639048352728, 1591639048354182,\n",
       "       1591639048352728, 1591639048354182, 1591639048352728,\n",
       "       1591639048354182, 1591639048358636, 1591639048360076,\n",
       "       1591639048358636, 1591639048360076, 1591639048358636,\n",
       "       1591639048360076, 1591639048358636, 1591639048360076,\n",
       "       1591639048358636, 1591639048360076, 1591639048358636,\n",
       "       1591639048360076, 1591639048358636, 1591639048360076,\n",
       "       1591639048358636, 1591639048360076, 1591639048358636,\n",
       "       1591639048360076, 1591639048358636, 1591639048360076,\n",
       "       1591639048358636, 1591639048360076, 1591639048358636,\n",
       "       1591639048360076, 1591639048358636, 1591639048360076,\n",
       "       1591639048358636, 1591639048360076, 1591639048358636,\n",
       "       1591639048360076, 1591639048358636, 1591639048360076,\n",
       "       1591639048364340, 1591639048365745, 1591639048364340,\n",
       "       1591639048365745, 1591639048364340, 1591639048365745,\n",
       "       1591639048364340, 1591639048365745, 1591639048364340,\n",
       "       1591639048365745, 1591639048364340, 1591639048365745,\n",
       "       1591639048364340, 1591639048365745, 1591639048364340,\n",
       "       1591639048365745, 1591639048364340, 1591639048365745,\n",
       "       1591639048364340, 1591639048365745, 1591639048364340,\n",
       "       1591639048365745, 1591639048364340, 1591639048365745,\n",
       "       1591639048364340, 1591639048365745, 1591639048364340,\n",
       "       1591639048365745, 1591639048364340, 1591639048365745,\n",
       "       1591639048364340, 1591639048365745, 1591639048370048,\n",
       "       1591639048371508, 1591639048370048, 1591639048371508,\n",
       "       1591639048370048, 1591639048371508, 1591639048370048,\n",
       "       1591639048371508, 1591639048370048, 1591639048371508,\n",
       "       1591639048370048, 1591639048371508, 1591639048370048,\n",
       "       1591639048371508, 1591639048370048, 1591639048371508,\n",
       "       1591639048370048, 1591639048371508, 1591639048370048,\n",
       "       1591639048371508, 1591639048370048, 1591639048371508,\n",
       "       1591639048370048, 1591639048371508, 1591639048370048,\n",
       "       1591639048371508, 1591639048370048, 1591639048371508,\n",
       "       1591639048370048, 1591639048371508, 1591639048370048,\n",
       "       1591639048371508], dtype=uint64)"
      ]
     },
     "execution_count": 37,
     "metadata": {},
     "output_type": "execute_result"
    }
   ],
   "source": [
    "pf_val['pixell_bfc']['ech'][10].timestamps"
   ]
  },
  {
   "cell_type": "code",
   "execution_count": 34,
   "metadata": {},
   "outputs": [
    {
     "data": {
      "text/plain": [
       "array([ True, False, False, ...,  True, False, False])"
      ]
     },
     "execution_count": 34,
     "metadata": {},
     "output_type": "execute_result"
    }
   ],
   "source": [
    "np.mod(z,2).astype(bool)"
   ]
  },
  {
   "cell_type": "code",
   "execution_count": null,
   "metadata": {},
   "outputs": [],
   "source": []
  },
  {
   "cell_type": "code",
   "execution_count": null,
   "metadata": {},
   "outputs": [],
   "source": []
  },
  {
   "cell_type": "code",
   "execution_count": 33,
   "metadata": {},
   "outputs": [
    {
     "data": {
      "text/plain": [
       "array([( 95, 21.751663, 19.5625, 1591639048372928, 129),\n",
       "       ( 95,  0.      ,  0.    , 1591639048372928, 128),\n",
       "       ( 95,  0.      ,  0.    , 1591639048372928, 128), ...,\n",
       "       (672,  4.242218, 72.8125, 1591639048371508, 129),\n",
       "       ( 95,  0.      ,  0.    , 1591639048372928, 128),\n",
       "       ( 95,  0.      ,  0.    , 1591639048372928, 128)],\n",
       "      dtype=[('indices', '<u4'), ('distances', '<f4'), ('amplitudes', '<f4'), ('timestamps', '<u8'), ('flags', '<u2')])"
      ]
     },
     "execution_count": 33,
     "metadata": {},
     "output_type": "execute_result"
    }
   ],
   "source": [
    "pf_val['pixell_bfc']['ech'][10].raw['data']"
   ]
  },
  {
   "cell_type": "code",
   "execution_count": null,
   "metadata": {},
   "outputs": [],
   "source": []
  },
  {
   "cell_type": "code",
   "execution_count": null,
   "metadata": {},
   "outputs": [],
   "source": []
  },
  {
   "cell_type": "code",
   "execution_count": null,
   "metadata": {},
   "outputs": [],
   "source": []
  },
  {
   "cell_type": "code",
   "execution_count": 45,
   "metadata": {},
   "outputs": [],
   "source": [
    "# initial : sbgekinox_bcc-pixell_bfc.pkl\n",
    "with open('/nas/pixset/exportedDataset/20200608_180144_rec_dataset_calib_imu_fast_brick05_exported/extrinsics/sbgekinox_bcc-ouster64_bfc.pkl', 'rb') as k:\n",
    "    tf_from_sbg_to_ous = pickle.load(k)\n",
    "\n",
    "with open('/nas/pixset/exportedDataset/20200608_180144_rec_dataset_calib_imu_fast_brick05_exported/extrinsics/pixell_bfc-ouster64_bfc.pkl', 'rb') as k:\n",
    "    tf_from_pix_to_ous = pickle.load(k)\n",
    "\n",
    "\n",
    "tf_from_sbg_to_pix = tf_from_sbg_to_ous @ linalg.tf_inv(tf_from_pix_to_ous)\n",
    "\n",
    "\n",
    "with open('sbgekinox_bcc-pixell_bfc.pkl', 'wb') as k:\n",
    "    pickle.dump(tf_from_sbg_to_pix, k)\n"
   ]
  },
  {
   "cell_type": "code",
   "execution_count": 46,
   "metadata": {},
   "outputs": [
    {
     "name": "stdout",
     "output_type": "stream",
     "text": [
      "translations :[-3.99027165 -0.03335964 -0.07475344], norm:3.9911112166154408\n",
      "Ax Angle vector:[ 0.29681432 -0.06285438  0.95286441], angle (deg):0.8494067216957352\n",
      "Euler Angle (deg):[ 0.25173069 -0.05516767  0.80924961]\n"
     ]
    }
   ],
   "source": [
    "DI.print_transf_result(tf_from_sbg_to_pix)"
   ]
  },
  {
   "cell_type": "code",
   "execution_count": null,
   "metadata": {},
   "outputs": [],
   "source": []
  },
  {
   "cell_type": "code",
   "execution_count": 51,
   "metadata": {},
   "outputs": [],
   "source": [
    "#validation with Pixell:\n",
    "result_tr_1 = np.load('/home/olivier/workspace/das/das/calib/examples/extrinsic_sbgekinox_ouster64/ckps9a/results.npy', allow_pickle=True).item()"
   ]
  },
  {
   "cell_type": "code",
   "execution_count": 52,
   "metadata": {},
   "outputs": [
    {
     "data": {
      "text/plain": [
       "500"
      ]
     },
     "execution_count": 52,
     "metadata": {},
     "output_type": "execute_result"
    }
   ],
   "source": [
    "M_trs = result_tr_1['calib']\n",
    "len(M_trs)"
   ]
  },
  {
   "cell_type": "code",
   "execution_count": 53,
   "metadata": {},
   "outputs": [
    {
     "data": {
      "text/plain": [
       "array([[ 0.99961686,  0.00714235,  0.02673987,  3.9239588 ],\n",
       "       [-0.00727393,  0.9999619 ,  0.00482637, -0.02135073],\n",
       "       [-0.02670437, -0.00501904,  0.99963075,  0.0628574 ],\n",
       "       [ 0.        ,  0.        ,  0.        ,  1.        ]],\n",
       "      dtype=float32)"
      ]
     },
     "execution_count": 53,
     "metadata": {},
     "output_type": "execute_result"
    }
   ],
   "source": [
    "M_trs[-1]"
   ]
  },
  {
   "cell_type": "code",
   "execution_count": null,
   "metadata": {},
   "outputs": [],
   "source": []
  },
  {
   "cell_type": "code",
   "execution_count": 113,
   "metadata": {},
   "outputs": [],
   "source": [
    "#optimization de la boucle \n",
    "# ouster -> sbg -> pixell -> ouster = 1 + epsilon\n",
    "\n",
    "best_tf_from_sbg_to_ous = np.eye(4)\n",
    "best_tf_from_sbg_to_pix = np.eye(4)\n",
    "best_score = np.inf\n",
    "\n",
    "list_tf_from_ous_to_sbg = np.load('/home/olivier/workspace/das/das/calib/examples/extrinsic_sbgekinox_ouster64/ckps7/results.npy', allow_pickle=True).item()['calib']\n",
    "\n",
    "list_tf_from_pix_to_sbg = np.load('/home/olivier/workspace/das/das/calib/examples/extrinsic_sbgekinox_ouster64/ckps9a/results.npy', allow_pickle=True).item()['calib']\n",
    "\n",
    "with open('/home/olivier/Leddartech/best_calibrations/pixset/extrinsics/icp_old/pixell_bfc-ouster64_bfc.pkl', 'rb') as k:\n",
    "    tf_from_pix_to_ous = pickle.load(k)\n",
    "\n"
   ]
  },
  {
   "cell_type": "code",
   "execution_count": 114,
   "metadata": {},
   "outputs": [
    {
     "data": {
      "text/plain": [
       "array([[ 0.99975172,  0.00156347, -0.02222718,  0.07268192],\n",
       "       [-0.00161865,  0.99999565, -0.00246497, -0.00496503],\n",
       "       [ 0.02222323,  0.00250034,  0.99974991, -0.2399816 ],\n",
       "       [ 0.        ,  0.        ,  0.        ,  1.        ]])"
      ]
     },
     "execution_count": 114,
     "metadata": {},
     "output_type": "execute_result"
    }
   ],
   "source": [
    "tf_from_pix_to_ous"
   ]
  },
  {
   "cell_type": "code",
   "execution_count": 115,
   "metadata": {},
   "outputs": [
    {
     "data": {
      "text/plain": [
       "(50, 500)"
      ]
     },
     "execution_count": 115,
     "metadata": {},
     "output_type": "execute_result"
    }
   ],
   "source": [
    "len(list_tf_from_ous_to_sbg), len(list_tf_from_pix_to_sbg)"
   ]
  },
  {
   "cell_type": "code",
   "execution_count": 116,
   "metadata": {},
   "outputs": [],
   "source": [
    "for tf_ous_sbg in list_tf_from_ous_to_sbg:\n",
    "    for tf_pix_sbg in list_tf_from_pix_to_sbg:\n",
    "        delta_id = tf_ous_sbg @ linalg.tf_inv(tf_pix_sbg) @ tf_from_pix_to_ous - np.eye(4)\n",
    "        _score = np.sum(delta_id**2)\n",
    "        if _score < best_score:\n",
    "            best_score = np.copy(_score)\n",
    "            best_tf_from_sbg_to_ous = np.copy(linalg.tf_inv(tf_ous_sbg))\n",
    "            best_tf_from_sbg_to_pix = np.copy(linalg.tf_inv(tf_pix_sbg))\n",
    "            "
   ]
  },
  {
   "cell_type": "code",
   "execution_count": 117,
   "metadata": {},
   "outputs": [
    {
     "data": {
      "text/plain": [
       "array(7.30386275e-06)"
      ]
     },
     "execution_count": 117,
     "metadata": {},
     "output_type": "execute_result"
    }
   ],
   "source": [
    "best_score"
   ]
  },
  {
   "cell_type": "code",
   "execution_count": 106,
   "metadata": {},
   "outputs": [
    {
     "data": {
      "text/plain": [
       "array([[ 0.99965775, -0.00723096, -0.02514188, -3.9071717 ],\n",
       "       [ 0.00710652,  0.9999621 , -0.00503542, -0.0111171 ],\n",
       "       [ 0.02517733,  0.00485503,  0.9996712 , -0.3221957 ],\n",
       "       [ 0.        ,  0.        ,  0.        ,  1.        ]],\n",
       "      dtype=float32)"
      ]
     },
     "execution_count": 106,
     "metadata": {},
     "output_type": "execute_result"
    }
   ],
   "source": [
    "best_tf_from_sbg_to_ous"
   ]
  },
  {
   "cell_type": "code",
   "execution_count": 107,
   "metadata": {},
   "outputs": [
    {
     "data": {
      "text/plain": [
       "array([[ 0.99965775,  0.00710652,  0.02517733,  3.9140253 ],\n",
       "       [-0.00723096,  0.9999621 ,  0.00485503, -0.01557165],\n",
       "       [-0.02514188, -0.00503542,  0.9996712 ,  0.22380018],\n",
       "       [ 0.        ,  0.        ,  0.        ,  1.        ]],\n",
       "      dtype=float32)"
      ]
     },
     "execution_count": 107,
     "metadata": {},
     "output_type": "execute_result"
    }
   ],
   "source": [
    "linalg.tf_inv(best_tf_from_sbg_to_ous)"
   ]
  },
  {
   "cell_type": "code",
   "execution_count": 108,
   "metadata": {},
   "outputs": [
    {
     "data": {
      "text/plain": [
       "array([[ 9.9993527e-01,  1.1282927e-02,  1.4698396e-03,  3.9903121e+00],\n",
       "       [-1.1287323e-02,  9.9993175e-01,  3.0175715e-03, -2.2937423e-02],\n",
       "       [-1.4356882e-03, -3.0339684e-03,  9.9999434e-01,  7.0996813e-02],\n",
       "       [ 0.0000000e+00,  0.0000000e+00,  0.0000000e+00,  1.0000000e+00]],\n",
       "      dtype=float32)"
      ]
     },
     "execution_count": 108,
     "metadata": {},
     "output_type": "execute_result"
    }
   ],
   "source": [
    "linalg.tf_inv(best_tf_from_sbg_to_pix)"
   ]
  },
  {
   "cell_type": "code",
   "execution_count": 102,
   "metadata": {},
   "outputs": [],
   "source": [
    "#saving_that\n",
    "with open('best_v2_sbgekinox_bcc-ouster64_bfc.pkl', 'wb') as k:\n",
    "    pickle.dump(best_tf_from_sbg_to_ous, k)\n",
    "\n",
    "with open('best_v2_sbgekinox_bcc-pixell_bfc.pkl', 'wb') as k:\n",
    "    pickle.dump(best_tf_from_sbg_to_pix, k)"
   ]
  },
  {
   "cell_type": "code",
   "execution_count": null,
   "metadata": {},
   "outputs": [],
   "source": []
  },
  {
   "cell_type": "code",
   "execution_count": null,
   "metadata": {},
   "outputs": [],
   "source": []
  },
  {
   "cell_type": "code",
   "execution_count": null,
   "metadata": {},
   "outputs": [],
   "source": []
  },
  {
   "cell_type": "code",
   "execution_count": null,
   "metadata": {},
   "outputs": [],
   "source": []
  },
  {
   "cell_type": "code",
   "execution_count": null,
   "metadata": {},
   "outputs": [],
   "source": []
  },
  {
   "cell_type": "code",
   "execution_count": null,
   "metadata": {},
   "outputs": [],
   "source": []
  }
 ],
 "metadata": {
  "kernelspec": {
   "display_name": "Python 3",
   "language": "python",
   "name": "python3"
  },
  "language_info": {
   "codemirror_mode": {
    "name": "ipython",
    "version": 3
   },
   "file_extension": ".py",
   "mimetype": "text/x-python",
   "name": "python",
   "nbconvert_exporter": "python",
   "pygments_lexer": "ipython3",
   "version": "3.6.9"
  }
 },
 "nbformat": 4,
 "nbformat_minor": 4
}
